{
 "cells": [
  {
   "cell_type": "code",
   "execution_count": 0,
   "metadata": {
    "colab": {},
    "colab_type": "code",
    "id": "N_btoHyZ7rnw"
   },
   "outputs": [],
   "source": [
    "# install jupyterthemes\n",
    "pip install jupyterthemes\n",
    "\n",
    "# upgrade to latest version\n",
    "pip install --upgrade jupyterthemes"
   ]
  },
  {
   "cell_type": "code",
   "execution_count": 0,
   "metadata": {
    "colab": {},
    "colab_type": "code",
    "id": "6GsA2rrd7rn1",
    "outputId": "2e97b9f7-3e40-4dce-91f8-a47144ab3b7f"
   },
   "outputs": [
    {
     "name": "stdout",
     "output_type": "stream",
     "text": [
      "Reset css and font defaults in:\n",
      "C:\\Users\\USER\\.jupyter\\custom &\n",
      "C:\\Users\\USER\\AppData\\Roaming\\jupyter\\nbextensions\n"
     ]
    }
   ],
   "source": [
    "# https://zhuanlan.zhihu.com/p/46242116\n",
    "# ! jt -l\n",
    "# !jt -t grade3 -N -T\n",
    "# !jt -t onedork -f roboto -fs 14 -nfs 14 -tfs 14 -ofs 11\n",
    "!jt -r"
   ]
  },
  {
   "cell_type": "markdown",
   "metadata": {
    "colab_type": "text",
    "id": "4jyJ7-hDi4wJ"
   },
   "source": [
    "# Python基礎語法與資料匯入匯出"
   ]
  },
  {
   "cell_type": "markdown",
   "metadata": {
    "colab_type": "text",
    "id": "B9p2wQk5i4wL"
   },
   "source": [
    "# Python基礎語法"
   ]
  },
  {
   "cell_type": "code",
   "execution_count": 0,
   "metadata": {
    "colab": {},
    "colab_type": "code",
    "id": "RxkVmuSBi4wS",
    "outputId": "397713f2-8ed3-4a43-8ac9-657b64cab802",
    "scrolled": true
   },
   "outputs": [
    {
     "name": "stdout",
     "output_type": "stream",
     "text": [
      "hello world\n",
      "你好，世界\n"
     ]
    }
   ],
   "source": [
    "#display hello world\n",
    "print(\"hello world\")\n",
    "print(\"你好，世界\")"
   ]
  },
  {
   "cell_type": "code",
   "execution_count": 0,
   "metadata": {
    "colab": {},
    "colab_type": "code",
    "id": "-9zvKiVri4we",
    "outputId": "1c6fbab4-280d-41e5-bcab-889545701c0a"
   },
   "outputs": [
    {
     "name": "stdout",
     "output_type": "stream",
     "text": [
      "0.625\n",
      "17\n"
     ]
    }
   ],
   "source": [
    "print(5 / 8)\n",
    "\n",
    "print(7+10)"
   ]
  },
  {
   "cell_type": "code",
   "execution_count": 0,
   "metadata": {
    "colab": {},
    "colab_type": "code",
    "id": "vD-frrR1i4wi",
    "outputId": "7b08ee1d-d552-4c6a-f1ab-f499078ca48c"
   },
   "outputs": [
    {
     "name": "stdout",
     "output_type": "stream",
     "text": [
      "10\n",
      "0\n",
      "15\n",
      "5.0\n",
      "4\n",
      "16\n",
      "第一年的本利和: 110.00000000000001\n",
      "194.87171000000012\n",
      "我的本金是100元，七年後，我的本利和是194.87\n"
     ]
    }
   ],
   "source": [
    "# Addition, subtraction\n",
    "print(5 + 5)\n",
    "print(5 - 5)\n",
    "\n",
    "# Multiplication, division, modulo, and exponentiation\n",
    "print(3 * 5)\n",
    "print(10 / 2)\n",
    "print(18 % 7)\n",
    "print(4 ** 2)\n",
    "\n",
    "# How much is your $100 worth after 7 years?\n",
    "# annual rate = 10%\n",
    "# Create a variable savings\n",
    "savings = 100\n",
    "\n",
    "# Create a variable growth_multiplier\n",
    "growth_multiplier=1.1\n",
    "\n",
    "# Assign product of growth_multiplier and savings to year1\n",
    "year1 = savings*growth_multiplier\n",
    "print(\"第一年的本利和:\" , year1)\n",
    "\n",
    "# Calculate result\n",
    "result = savings*(growth_multiplier**7)\n",
    "print(result)\n",
    "result = round(result, 2)\n",
    "\n",
    "# Print out result\n",
    "print(\"我的本金是%s元，\"%savings + \"七年後，我的本利和是%s\"%result)"
   ]
  },
  {
   "cell_type": "markdown",
   "metadata": {
    "colab_type": "text",
    "id": "XjY3XchSi4wn"
   },
   "source": [
    "### Variables and Types"
   ]
  },
  {
   "cell_type": "code",
   "execution_count": 0,
   "metadata": {
    "colab": {},
    "colab_type": "code",
    "id": "ztX-Wzafi4wn",
    "outputId": "fc1af909-1625-45dd-ad8d-614162d8990e"
   },
   "outputs": [
    {
     "name": "stdout",
     "output_type": "stream",
     "text": [
      "1.79\n",
      "74.2\n",
      "23.157829031553323\n"
     ]
    }
   ],
   "source": [
    "# Variable\n",
    "#  Specific, case-sensitive name\n",
    "#  Call up value through variable name\n",
    "#  1.79 m - 68.7 kg\n",
    "height = 1.79\n",
    "weight = 74.2\n",
    "print(height)\n",
    "print(weight)\n",
    "\n",
    "bmi = weight / height ** 2\n",
    "print(bmi)     "
   ]
  },
  {
   "cell_type": "code",
   "execution_count": 0,
   "metadata": {
    "colab": {},
    "colab_type": "code",
    "id": "qQx3Yy-Ji4wr",
    "outputId": "0c0e63d7-a1dd-4fd0-c974-77c2a05f226a"
   },
   "outputs": [
    {
     "name": "stdout",
     "output_type": "stream",
     "text": [
      "<class 'float'>\n",
      "<class 'int'>\n",
      "body mass index this works too\n",
      "<class 'str'>\n",
      "<class 'str'>\n",
      "<class 'bool'>\n"
     ]
    }
   ],
   "source": [
    "# Python Types\n",
    "print(type(bmi))\n",
    "\n",
    "day_of_week = 5\n",
    "print(type(day_of_week))\n",
    "\n",
    "x = \"body mass index\"\n",
    "y = 'this works too' \n",
    "print(x + \" \"+ y)\n",
    "print(type(x))\n",
    "print(type(x+y))\n",
    "\n",
    "z = True\n",
    "print(type(z))"
   ]
  },
  {
   "cell_type": "code",
   "execution_count": 0,
   "metadata": {
    "colab": {},
    "colab_type": "code",
    "id": "pPlBa29di4wu",
    "outputId": "9aad9993-5454-483b-f02e-ab60e4e6c42e"
   },
   "outputs": [
    {
     "name": "stdout",
     "output_type": "stream",
     "text": [
      "<class 'str'>\n",
      "3.14159263.1415926\n",
      "6.2831852\n"
     ]
    }
   ],
   "source": [
    "# Definition of pi_string\n",
    "pi_string = \"3.1415926\"\n",
    "r = 2\n",
    "print(type(pi_string))\n",
    "\n",
    "# string cann't calculate\n",
    "multiply_pie = pi_string * 2\n",
    "print(multiply_pie)\n",
    "\n",
    "# Convert pi_string into float: pi_float\n",
    "multiply_pie = float(pi_string) * 2\n",
    "print(multiply_pie)"
   ]
  },
  {
   "cell_type": "code",
   "execution_count": 0,
   "metadata": {
    "colab": {},
    "colab_type": "code",
    "id": "MzdOwf-ci4wy",
    "outputId": "479db79c-2b67-46ad-bd54-6578ac959ced"
   },
   "outputs": [
    {
     "data": {
      "text/plain": [
       "[1.73, 1.76, 1.68, 1.89]"
      ]
     },
     "execution_count": 36,
     "metadata": {
      "tags": []
     },
     "output_type": "execute_result"
    }
   ],
   "source": [
    "# float - real numbers\n",
    "# int - integer numbers\n",
    "# str - string, text\n",
    "# bool - True, False\n",
    "\n",
    "height = 1.79\n",
    "weight = 74.2\n",
    "\n",
    "# Data Science: many data points\n",
    "# Height of entire family\n",
    "# problem: inconvenient\n",
    "height = 1.73\n",
    "height = 1.76\n",
    "height = 1.68\n",
    "height = 1.89\n",
    "\n",
    "# python list\n",
    "fam = [1.73, 1.76, 1.68, 1.89]\n",
    "fam"
   ]
  },
  {
   "cell_type": "markdown",
   "metadata": {
    "colab_type": "text",
    "id": "ilMlpbYO6C02"
   },
   "source": [
    "### Python List\n",
    "#### Name a collection of values\n",
    "#### Contain any type\n",
    "#### Contain different type"
   ]
  },
  {
   "cell_type": "code",
   "execution_count": 0,
   "metadata": {
    "colab": {
     "base_uri": "https://localhost:8080/",
     "height": 34
    },
    "colab_type": "code",
    "executionInfo": {
     "elapsed": 847,
     "status": "ok",
     "timestamp": 1556672602261,
     "user": {
      "displayName": "hsu megan",
      "photoUrl": "",
      "userId": "05072458646650422245"
     },
     "user_tz": -480
    },
    "id": "7a_SLrWb6C03",
    "outputId": "bac3acc0-bec8-4dfc-f10f-f16093d0aa7a"
   },
   "outputs": [
    {
     "data": {
      "text/plain": [
       "['liz', 1.73, 'emma', 1.68, 'mom', 1.71, 'dad', 1.89]"
      ]
     },
     "execution_count": 26,
     "metadata": {
      "tags": []
     },
     "output_type": "execute_result"
    }
   ],
   "source": [
    "fam = [\"liz\", 1.73, \"emma\", 1.68, \"mom\", 1.71, \"dad\", 1.89] \n",
    "fam"
   ]
  },
  {
   "cell_type": "code",
   "execution_count": 0,
   "metadata": {
    "colab": {},
    "colab_type": "code",
    "id": "qK9cFc6N6C07"
   },
   "outputs": [],
   "source": [
    "# 二維陣列\n",
    "fam2 = [[\"liz\", 1.73],\n",
    " [\"emma\", 1.68],\n",
    " [\"mom\", 1.71],\n",
    " [\"dad\", 1.89]] "
   ]
  },
  {
   "cell_type": "code",
   "execution_count": 0,
   "metadata": {
    "colab": {
     "base_uri": "https://localhost:8080/",
     "height": 69
    },
    "colab_type": "code",
    "executionInfo": {
     "elapsed": 696,
     "status": "ok",
     "timestamp": 1556672969415,
     "user": {
      "displayName": "hsu megan",
      "photoUrl": "",
      "userId": "05072458646650422245"
     },
     "user_tz": -480
    },
    "id": "t4Sd0W-k6C1A",
    "outputId": "3b68689c-d71c-4ecc-fc30-34fee533750c",
    "scrolled": true
   },
   "outputs": [
    {
     "name": "stdout",
     "output_type": "stream",
     "text": [
      "<class 'list'>\n",
      "8\n",
      "1.68\n"
     ]
    }
   ],
   "source": [
    "print(type(fam))\n",
    "print(len(fam))\n",
    "print(fam[3])"
   ]
  },
  {
   "cell_type": "code",
   "execution_count": 0,
   "metadata": {
    "colab": {},
    "colab_type": "code",
    "id": "1PovJzjW7roq",
    "outputId": "e516a2c7-f482-4fb1-e073-235bdace3667"
   },
   "outputs": [
    {
     "data": {
      "text/plain": [
       "list"
      ]
     },
     "execution_count": 29,
     "metadata": {
      "tags": []
     },
     "output_type": "execute_result"
    }
   ],
   "source": [
    "type(fam)\n",
    "type(fam2)"
   ]
  },
  {
   "attachments": {
    "image.png": {
     "image/png": "[encoded data removed]"
    }
   },
   "cell_type": "markdown",
   "metadata": {},
   "source": [
    "![image.png](attachment:image.png)"
   ]
  },
  {
   "cell_type": "markdown",
   "metadata": {
    "colab_type": "text",
    "id": "DI7U0bFx7ro5"
   },
   "source": [
    "### Subsetting lists"
   ]
  },
  {
   "cell_type": "code",
   "execution_count": 0,
   "metadata": {
    "colab": {},
    "colab_type": "code",
    "id": "bLMD0Rir7ro6"
   },
   "outputs": [],
   "source": [
    "fam = [\"liz\", 1.73, \"emma\", 1.68, \"mom\", 1.71, \"dad\", 1.89] "
   ]
  },
  {
   "cell_type": "code",
   "execution_count": 0,
   "metadata": {
    "colab": {},
    "colab_type": "code",
    "id": "Y_QiE-n_7ro-",
    "outputId": "cc4ac228-912d-4461-8bac-78a62772aa87"
   },
   "outputs": [
    {
     "data": {
      "text/plain": [
       "1.68"
      ]
     },
     "execution_count": 31,
     "metadata": {
      "tags": []
     },
     "output_type": "execute_result"
    }
   ],
   "source": [
    "fam[3] "
   ]
  },
  {
   "cell_type": "code",
   "execution_count": 0,
   "metadata": {
    "colab": {},
    "colab_type": "code",
    "id": "1aLcc1Mm7rpC",
    "outputId": "73039819-ed33-442e-d288-a0e14f7c5d41"
   },
   "outputs": [
    {
     "data": {
      "text/plain": [
       "'dad'"
      ]
     },
     "execution_count": 32,
     "metadata": {
      "tags": []
     },
     "output_type": "execute_result"
    }
   ],
   "source": [
    " fam[6] "
   ]
  },
  {
   "cell_type": "code",
   "execution_count": 0,
   "metadata": {
    "colab": {},
    "colab_type": "code",
    "id": "n3j042mN7rpG",
    "outputId": "50d24ff7-81e2-4d09-d660-fe2648e9ba74"
   },
   "outputs": [
    {
     "data": {
      "text/plain": [
       "1.89"
      ]
     },
     "execution_count": 33,
     "metadata": {
      "tags": []
     },
     "output_type": "execute_result"
    }
   ],
   "source": [
    " fam[-1] "
   ]
  },
  {
   "cell_type": "code",
   "execution_count": 0,
   "metadata": {
    "colab": {},
    "colab_type": "code",
    "id": "CTLdRz3C7rpK",
    "outputId": "281f340d-c42b-4e2f-f14d-155f8e123fc2"
   },
   "outputs": [
    {
     "data": {
      "text/plain": [
       "'dad'"
      ]
     },
     "execution_count": 34,
     "metadata": {
      "tags": []
     },
     "output_type": "execute_result"
    }
   ],
   "source": [
    " fam[-2] "
   ]
  },
  {
   "cell_type": "code",
   "execution_count": 0,
   "metadata": {
    "colab": {},
    "colab_type": "code",
    "id": "2egx4To67rpQ",
    "outputId": "c316f9d9-2150-4df7-b56a-c3d46c0dc396"
   },
   "outputs": [
    {
     "data": {
      "text/plain": [
       "[1.68, 'mom']"
      ]
     },
     "execution_count": 52,
     "metadata": {
      "tags": []
     },
     "output_type": "execute_result"
    }
   ],
   "source": [
    "# fam = [\"liz\", 1.73, \"emma\", 1.68, \"mom\", 1.71, \"dad\", 1.89] \n",
    "fam[3:5] "
   ]
  },
  {
   "cell_type": "markdown",
   "metadata": {
    "colab_type": "text",
    "id": "c5IaW85c7rpV"
   },
   "source": [
    "<img src=\"ListSlicing.jpg\", width=\"50%\">"
   ]
  },
  {
   "cell_type": "code",
   "execution_count": 0,
   "metadata": {
    "colab": {},
    "colab_type": "code",
    "id": "uFgoGKi17rpX",
    "outputId": "b0d07a98-039b-459d-a59f-e43ba1f24efd"
   },
   "outputs": [
    {
     "data": {
      "text/plain": [
       "[1.73, 'emma', 1.68]"
      ]
     },
     "execution_count": 53,
     "metadata": {
      "tags": []
     },
     "output_type": "execute_result"
    }
   ],
   "source": [
    "# fam = [\"liz\", 1.73, \"emma\", 1.68, \"mom\", 1.71, \"dad\", 1.89] \n",
    "fam[1:4]"
   ]
  },
  {
   "cell_type": "code",
   "execution_count": 0,
   "metadata": {
    "colab": {},
    "colab_type": "code",
    "id": "sfrJ_QCi7rpb",
    "outputId": "8b3aa0c9-5fa4-42bf-eb14-4e004e16d325"
   },
   "outputs": [
    {
     "data": {
      "text/plain": [
       "['liz', 1.73, 'emma', 1.68]"
      ]
     },
     "execution_count": 54,
     "metadata": {
      "tags": []
     },
     "output_type": "execute_result"
    }
   ],
   "source": [
    "fam[:4]"
   ]
  },
  {
   "cell_type": "code",
   "execution_count": 0,
   "metadata": {
    "colab": {},
    "colab_type": "code",
    "id": "d6ioHyW07rpe",
    "outputId": "d3ab6c61-f2ea-4784-f16c-97800ef8476e",
    "scrolled": true
   },
   "outputs": [
    {
     "data": {
      "text/plain": [
       "[1.71, 'dad', 1.89]"
      ]
     },
     "execution_count": 55,
     "metadata": {
      "tags": []
     },
     "output_type": "execute_result"
    }
   ],
   "source": [
    "fam[5:]"
   ]
  },
  {
   "cell_type": "markdown",
   "metadata": {
    "colab_type": "text",
    "id": "7hez4W2S7rph"
   },
   "source": [
    "### List Manipulation\n",
    "#### ● Change list elements\n",
    "#### ● Add list elements\n",
    "#### ● Remove list elements"
   ]
  },
  {
   "cell_type": "markdown",
   "metadata": {
    "colab_type": "text",
    "id": "HRsHOGiD8qyw"
   },
   "source": [
    "### Change list elements"
   ]
  },
  {
   "cell_type": "code",
   "execution_count": 0,
   "metadata": {
    "colab": {
     "base_uri": "https://localhost:8080/",
     "height": 34
    },
    "colab_type": "code",
    "executionInfo": {
     "elapsed": 765,
     "status": "ok",
     "timestamp": 1557025402633,
     "user": {
      "displayName": "hsu megan",
      "photoUrl": "",
      "userId": "05072458646650422245"
     },
     "user_tz": -480
    },
    "id": "0NIRk0Z57rph",
    "outputId": "d72b9a84-429c-4e4d-9e23-cae5e9daaf7e"
   },
   "outputs": [
    {
     "data": {
      "text/plain": [
       "['liz', 1.73, 'emma', 1.68, 'mom', 1.71, 'dad', 1.86]"
      ]
     },
     "execution_count": 5,
     "metadata": {
      "tags": []
     },
     "output_type": "execute_result"
    }
   ],
   "source": [
    "fam = [\"liz\", 1.73, \"emma\", 1.68, \"mom\", 1.71, \"dad\", 1.89] \n",
    "fam[7] = 1.86\n",
    "fam"
   ]
  },
  {
   "cell_type": "code",
   "execution_count": 0,
   "metadata": {
    "colab": {
     "base_uri": "https://localhost:8080/",
     "height": 34
    },
    "colab_type": "code",
    "executionInfo": {
     "elapsed": 873,
     "status": "ok",
     "timestamp": 1557025399653,
     "user": {
      "displayName": "hsu megan",
      "photoUrl": "",
      "userId": "05072458646650422245"
     },
     "user_tz": -480
    },
    "id": "vsptHGgu7rpj",
    "outputId": "cee57a50-9456-4336-893b-e81e1cedfcb7"
   },
   "outputs": [
    {
     "data": {
      "text/plain": [
       "['lisa', 1.74, 'emma', 1.68, 'mom', 1.71, 'dad', 1.86]"
      ]
     },
     "execution_count": 4,
     "metadata": {
      "tags": []
     },
     "output_type": "execute_result"
    }
   ],
   "source": [
    "fam[0:2] = [\"lisa\", 1.74]\n",
    "fam"
   ]
  },
  {
   "cell_type": "code",
   "execution_count": 0,
   "metadata": {
    "colab": {},
    "colab_type": "code",
    "id": "AHR5bFqc7rpl"
   },
   "outputs": [],
   "source": []
  },
  {
   "cell_type": "markdown",
   "metadata": {
    "colab_type": "text",
    "id": "U9B_-HZn8s_U"
   },
   "source": [
    "### Adding and removing elements"
   ]
  },
  {
   "cell_type": "code",
   "execution_count": 0,
   "metadata": {
    "colab": {
     "base_uri": "https://localhost:8080/",
     "height": 34
    },
    "colab_type": "code",
    "executionInfo": {
     "elapsed": 744,
     "status": "ok",
     "timestamp": 1557025602226,
     "user": {
      "displayName": "hsu megan",
      "photoUrl": "",
      "userId": "05072458646650422245"
     },
     "user_tz": -480
    },
    "id": "Xzp9TJ8C7rpn",
    "outputId": "a95bb345-29fa-4926-d784-9e5070d92fd3"
   },
   "outputs": [
    {
     "data": {
      "text/plain": [
       "['liz', 1.73, 'emma', 1.68, 'mom', 1.71, 'dad', 1.86, 'me', 1.79]"
      ]
     },
     "execution_count": 14,
     "metadata": {
      "tags": []
     },
     "output_type": "execute_result"
    }
   ],
   "source": [
    "# fam = ['liz', 1.73, 'emma', 1.68, 'mom', 1.71, 'dad', 1.86]\n",
    "fam_ext = fam + [\"me\", 1.79]\n",
    "fam_ext"
   ]
  },
  {
   "cell_type": "code",
   "execution_count": 0,
   "metadata": {
    "colab": {
     "base_uri": "https://localhost:8080/",
     "height": 34
    },
    "colab_type": "code",
    "executionInfo": {
     "elapsed": 1735,
     "status": "ok",
     "timestamp": 1557025958330,
     "user": {
      "displayName": "hsu megan",
      "photoUrl": "",
      "userId": "05072458646650422245"
     },
     "user_tz": -480
    },
    "id": "B-kNG_qr7rpp",
    "outputId": "800bb14b-abeb-4ea9-f32e-4c100c3ef06f"
   },
   "outputs": [
    {
     "data": {
      "text/plain": [
       "['liz', 1.73, 1.68, 'mom', 1.71, 'dad', 1.86]"
      ]
     },
     "execution_count": 30,
     "metadata": {
      "tags": []
     },
     "output_type": "execute_result"
    }
   ],
   "source": [
    "fam = ['liz', 1.73, 'emma', 1.68, 'mom', 1.71, 'dad', 1.86]\n",
    "del(fam[2])\n",
    "fam"
   ]
  },
  {
   "cell_type": "code",
   "execution_count": 0,
   "metadata": {
    "colab": {
     "base_uri": "https://localhost:8080/",
     "height": 34
    },
    "colab_type": "code",
    "executionInfo": {
     "elapsed": 1541,
     "status": "ok",
     "timestamp": 1557025961632,
     "user": {
      "displayName": "hsu megan",
      "photoUrl": "",
      "userId": "05072458646650422245"
     },
     "user_tz": -480
    },
    "id": "O5PuPcAk9V2H",
    "outputId": "f6b197d4-dcc6-47ae-e22f-76ecb70287e9"
   },
   "outputs": [
    {
     "data": {
      "text/plain": [
       "['liz', 1.73, 'mom', 1.71, 'dad', 1.86]"
      ]
     },
     "execution_count": 31,
     "metadata": {
      "tags": []
     },
     "output_type": "execute_result"
    }
   ],
   "source": [
    "del(fam[2])\n",
    "fam"
   ]
  },
  {
   "cell_type": "code",
   "execution_count": 0,
   "metadata": {
    "colab": {},
    "colab_type": "code",
    "id": "mI3-DzV-_EOP"
   },
   "outputs": [],
   "source": []
  },
  {
   "cell_type": "markdown",
   "metadata": {
    "colab_type": "text",
    "id": "uSrik2nT_HMO"
   },
   "source": [
    "## Functions\n",
    "### Nothing new!\n",
    "### type()\n",
    "### Piece of reusable code\n",
    "### Solves particular task\n",
    "### Call function instead of writing code yourself\n",
    "\n"
   ]
  },
  {
   "cell_type": "code",
   "execution_count": 0,
   "metadata": {
    "colab": {
     "base_uri": "https://localhost:8080/",
     "height": 34
    },
    "colab_type": "code",
    "executionInfo": {
     "elapsed": 1469,
     "status": "ok",
     "timestamp": 1557026237901,
     "user": {
      "displayName": "hsu megan",
      "photoUrl": "",
      "userId": "05072458646650422245"
     },
     "user_tz": -480
    },
    "id": "Pxt8ppV8_FxX",
    "outputId": "ac77c890-ccfa-4269-f057-2e353f3835f1"
   },
   "outputs": [
    {
     "data": {
      "text/plain": [
       "1.89"
      ]
     },
     "execution_count": 37,
     "metadata": {
      "tags": []
     },
     "output_type": "execute_result"
    }
   ],
   "source": [
    "fam = [1.73, 1.68, 1.71, 1.89]\n",
    "max(fam)"
   ]
  },
  {
   "cell_type": "code",
   "execution_count": 0,
   "metadata": {
    "colab": {
     "base_uri": "https://localhost:8080/",
     "height": 34
    },
    "colab_type": "code",
    "executionInfo": {
     "elapsed": 510,
     "status": "ok",
     "timestamp": 1557026216153,
     "user": {
      "displayName": "hsu megan",
      "photoUrl": "",
      "userId": "05072458646650422245"
     },
     "user_tz": -480
    },
    "id": "xkMymiGC_F0p",
    "outputId": "09af2a94-d89b-4bf5-d8cb-f9697399a51f"
   },
   "outputs": [
    {
     "data": {
      "text/plain": [
       "1.89"
      ]
     },
     "execution_count": 36,
     "metadata": {
      "tags": []
     },
     "output_type": "execute_result"
    }
   ],
   "source": [
    "tallest = max(fam)\n",
    "tallest"
   ]
  },
  {
   "cell_type": "code",
   "execution_count": 0,
   "metadata": {
    "colab": {
     "base_uri": "https://localhost:8080/",
     "height": 34
    },
    "colab_type": "code",
    "executionInfo": {
     "elapsed": 786,
     "status": "ok",
     "timestamp": 1557026190646,
     "user": {
      "displayName": "hsu megan",
      "photoUrl": "",
      "userId": "05072458646650422245"
     },
     "user_tz": -480
    },
    "id": "TUfaXHB1_F35",
    "outputId": "347a095a-a25c-417a-bca0-bf188ef8fb7d"
   },
   "outputs": [
    {
     "data": {
      "text/plain": [
       "1.68"
      ]
     },
     "execution_count": 35,
     "metadata": {
      "tags": []
     },
     "output_type": "execute_result"
    }
   ],
   "source": [
    "min(fam)"
   ]
  },
  {
   "cell_type": "code",
   "execution_count": 0,
   "metadata": {
    "colab": {
     "base_uri": "https://localhost:8080/",
     "height": 34
    },
    "colab_type": "code",
    "executionInfo": {
     "elapsed": 753,
     "status": "ok",
     "timestamp": 1557026253875,
     "user": {
      "displayName": "hsu megan",
      "photoUrl": "",
      "userId": "05072458646650422245"
     },
     "user_tz": -480
    },
    "id": "quowT56k_F6u",
    "outputId": "92814ed4-51d0-4bc6-d9c6-326d7b99f69a"
   },
   "outputs": [
    {
     "data": {
      "text/plain": [
       "1.7"
      ]
     },
     "execution_count": 38,
     "metadata": {
      "tags": []
     },
     "output_type": "execute_result"
    }
   ],
   "source": [
    "round(1.68, 1)"
   ]
  },
  {
   "cell_type": "code",
   "execution_count": 0,
   "metadata": {
    "colab": {
     "base_uri": "https://localhost:8080/",
     "height": 34
    },
    "colab_type": "code",
    "executionInfo": {
     "elapsed": 802,
     "status": "ok",
     "timestamp": 1557026265991,
     "user": {
      "displayName": "hsu megan",
      "photoUrl": "",
      "userId": "05072458646650422245"
     },
     "user_tz": -480
    },
    "id": "d-MHLWyF_F9h",
    "outputId": "094feabc-8f84-4c55-fce4-070c71f887d0"
   },
   "outputs": [
    {
     "data": {
      "text/plain": [
       "1.68"
      ]
     },
     "execution_count": 39,
     "metadata": {
      "tags": []
     },
     "output_type": "execute_result"
    }
   ],
   "source": [
    "round(1.68, 2)"
   ]
  },
  {
   "cell_type": "code",
   "execution_count": 0,
   "metadata": {
    "colab": {
     "base_uri": "https://localhost:8080/",
     "height": 34
    },
    "colab_type": "code",
    "executionInfo": {
     "elapsed": 887,
     "status": "ok",
     "timestamp": 1557026306898,
     "user": {
      "displayName": "hsu megan",
      "photoUrl": "",
      "userId": "05072458646650422245"
     },
     "user_tz": -480
    },
    "id": "1phbg9SL_2XO",
    "outputId": "798be1cd-5b01-4051-c299-cd57fe2d7fdf"
   },
   "outputs": [
    {
     "data": {
      "text/plain": [
       "2"
      ]
     },
     "execution_count": 42,
     "metadata": {
      "tags": []
     },
     "output_type": "execute_result"
    }
   ],
   "source": [
    "round(1.68)"
   ]
  },
  {
   "cell_type": "code",
   "execution_count": 0,
   "metadata": {
    "colab": {
     "base_uri": "https://localhost:8080/",
     "height": 175
    },
    "colab_type": "code",
    "executionInfo": {
     "elapsed": 809,
     "status": "ok",
     "timestamp": 1557026332060,
     "user": {
      "displayName": "hsu megan",
      "photoUrl": "",
      "userId": "05072458646650422245"
     },
     "user_tz": -480
    },
    "id": "8NiqA3XH_2aN",
    "outputId": "ffb8d38d-4bb7-4ee9-874d-a219e695c9a8"
   },
   "outputs": [
    {
     "name": "stdout",
     "output_type": "stream",
     "text": [
      "Help on built-in function round in module builtins:\n",
      "\n",
      "round(...)\n",
      "    round(number[, ndigits]) -> number\n",
      "    \n",
      "    Round a number to a given precision in decimal digits (default 0 digits).\n",
      "    This returns an int when called with one argument, otherwise the\n",
      "    same type as the number. ndigits may be negative.\n",
      "\n"
     ]
    }
   ],
   "source": [
    "help(round)"
   ]
  },
  {
   "cell_type": "markdown",
   "metadata": {
    "colab_type": "text",
    "id": "XH3SO60TAdF1"
   },
   "source": [
    "### Find functions\n",
    "#### How to know?\n",
    "#### Standard task --> probably function exists!\n",
    "#### The internet is your friend"
   ]
  },
  {
   "cell_type": "markdown",
   "metadata": {
    "colab_type": "text",
    "id": "O45aPBidA6-q"
   },
   "source": [
    "## Methods\n",
    "### Built-in Functions\n",
    " #### Maximum of list: max()"
   ]
  },
  {
   "cell_type": "markdown",
   "metadata": {
    "colab_type": "text",
    "id": "qmbhX-vqBPr2"
   },
   "source": [
    "## Back 2 Basics"
   ]
  },
  {
   "cell_type": "code",
   "execution_count": 0,
   "metadata": {
    "colab": {},
    "colab_type": "code",
    "id": "CwFvJrZL_208"
   },
   "outputs": [],
   "source": [
    "sister = \"liz\"\n",
    "height = 1.73\n",
    "\n",
    "fam = ['liz', 1.73, 'emma', 1.68, 'mom', 1.71, 'dad', 1.89]"
   ]
  },
  {
   "cell_type": "code",
   "execution_count": 0,
   "metadata": {
    "colab": {
     "base_uri": "https://localhost:8080/",
     "height": 6986
    },
    "colab_type": "code",
    "executionInfo": {
     "elapsed": 1215,
     "status": "ok",
     "timestamp": 1557026893539,
     "user": {
      "displayName": "hsu megan",
      "photoUrl": "",
      "userId": "05072458646650422245"
     },
     "user_tz": -480
    },
    "id": "ifI1Bib7_2yb",
    "outputId": "135273f2-eb8c-4234-f899-00d62203b91e"
   },
   "outputs": [
    {
     "name": "stdout",
     "output_type": "stream",
     "text": [
      "Help on class str in module builtins:\n",
      "\n",
      "class str(object)\n",
      " |  str(object='') -> str\n",
      " |  str(bytes_or_buffer[, encoding[, errors]]) -> str\n",
      " |  \n",
      " |  Create a new string object from the given object. If encoding or\n",
      " |  errors is specified, then the object must expose a data buffer\n",
      " |  that will be decoded using the given encoding and error handler.\n",
      " |  Otherwise, returns the result of object.__str__() (if defined)\n",
      " |  or repr(object).\n",
      " |  encoding defaults to sys.getdefaultencoding().\n",
      " |  errors defaults to 'strict'.\n",
      " |  \n",
      " |  Methods defined here:\n",
      " |  \n",
      " |  __add__(self, value, /)\n",
      " |      Return self+value.\n",
      " |  \n",
      " |  __contains__(self, key, /)\n",
      " |      Return key in self.\n",
      " |  \n",
      " |  __eq__(self, value, /)\n",
      " |      Return self==value.\n",
      " |  \n",
      " |  __format__(...)\n",
      " |      S.__format__(format_spec) -> str\n",
      " |      \n",
      " |      Return a formatted version of S as described by format_spec.\n",
      " |  \n",
      " |  __ge__(self, value, /)\n",
      " |      Return self>=value.\n",
      " |  \n",
      " |  __getattribute__(self, name, /)\n",
      " |      Return getattr(self, name).\n",
      " |  \n",
      " |  __getitem__(self, key, /)\n",
      " |      Return self[key].\n",
      " |  \n",
      " |  __getnewargs__(...)\n",
      " |  \n",
      " |  __gt__(self, value, /)\n",
      " |      Return self>value.\n",
      " |  \n",
      " |  __hash__(self, /)\n",
      " |      Return hash(self).\n",
      " |  \n",
      " |  __iter__(self, /)\n",
      " |      Implement iter(self).\n",
      " |  \n",
      " |  __le__(self, value, /)\n",
      " |      Return self<=value.\n",
      " |  \n",
      " |  __len__(self, /)\n",
      " |      Return len(self).\n",
      " |  \n",
      " |  __lt__(self, value, /)\n",
      " |      Return self<value.\n",
      " |  \n",
      " |  __mod__(self, value, /)\n",
      " |      Return self%value.\n",
      " |  \n",
      " |  __mul__(self, value, /)\n",
      " |      Return self*value.\n",
      " |  \n",
      " |  __ne__(self, value, /)\n",
      " |      Return self!=value.\n",
      " |  \n",
      " |  __new__(*args, **kwargs) from builtins.type\n",
      " |      Create and return a new object.  See help(type) for accurate signature.\n",
      " |  \n",
      " |  __repr__(self, /)\n",
      " |      Return repr(self).\n",
      " |  \n",
      " |  __rmod__(self, value, /)\n",
      " |      Return value%self.\n",
      " |  \n",
      " |  __rmul__(self, value, /)\n",
      " |      Return value*self.\n",
      " |  \n",
      " |  __sizeof__(...)\n",
      " |      S.__sizeof__() -> size of S in memory, in bytes\n",
      " |  \n",
      " |  __str__(self, /)\n",
      " |      Return str(self).\n",
      " |  \n",
      " |  capitalize(...)\n",
      " |      S.capitalize() -> str\n",
      " |      \n",
      " |      Return a capitalized version of S, i.e. make the first character\n",
      " |      have upper case and the rest lower case.\n",
      " |  \n",
      " |  casefold(...)\n",
      " |      S.casefold() -> str\n",
      " |      \n",
      " |      Return a version of S suitable for caseless comparisons.\n",
      " |  \n",
      " |  center(...)\n",
      " |      S.center(width[, fillchar]) -> str\n",
      " |      \n",
      " |      Return S centered in a string of length width. Padding is\n",
      " |      done using the specified fill character (default is a space)\n",
      " |  \n",
      " |  count(...)\n",
      " |      S.count(sub[, start[, end]]) -> int\n",
      " |      \n",
      " |      Return the number of non-overlapping occurrences of substring sub in\n",
      " |      string S[start:end].  Optional arguments start and end are\n",
      " |      interpreted as in slice notation.\n",
      " |  \n",
      " |  encode(...)\n",
      " |      S.encode(encoding='utf-8', errors='strict') -> bytes\n",
      " |      \n",
      " |      Encode S using the codec registered for encoding. Default encoding\n",
      " |      is 'utf-8'. errors may be given to set a different error\n",
      " |      handling scheme. Default is 'strict' meaning that encoding errors raise\n",
      " |      a UnicodeEncodeError. Other possible values are 'ignore', 'replace' and\n",
      " |      'xmlcharrefreplace' as well as any other name registered with\n",
      " |      codecs.register_error that can handle UnicodeEncodeErrors.\n",
      " |  \n",
      " |  endswith(...)\n",
      " |      S.endswith(suffix[, start[, end]]) -> bool\n",
      " |      \n",
      " |      Return True if S ends with the specified suffix, False otherwise.\n",
      " |      With optional start, test S beginning at that position.\n",
      " |      With optional end, stop comparing S at that position.\n",
      " |      suffix can also be a tuple of strings to try.\n",
      " |  \n",
      " |  expandtabs(...)\n",
      " |      S.expandtabs(tabsize=8) -> str\n",
      " |      \n",
      " |      Return a copy of S where all tab characters are expanded using spaces.\n",
      " |      If tabsize is not given, a tab size of 8 characters is assumed.\n",
      " |  \n",
      " |  find(...)\n",
      " |      S.find(sub[, start[, end]]) -> int\n",
      " |      \n",
      " |      Return the lowest index in S where substring sub is found,\n",
      " |      such that sub is contained within S[start:end].  Optional\n",
      " |      arguments start and end are interpreted as in slice notation.\n",
      " |      \n",
      " |      Return -1 on failure.\n",
      " |  \n",
      " |  format(...)\n",
      " |      S.format(*args, **kwargs) -> str\n",
      " |      \n",
      " |      Return a formatted version of S, using substitutions from args and kwargs.\n",
      " |      The substitutions are identified by braces ('{' and '}').\n",
      " |  \n",
      " |  format_map(...)\n",
      " |      S.format_map(mapping) -> str\n",
      " |      \n",
      " |      Return a formatted version of S, using substitutions from mapping.\n",
      " |      The substitutions are identified by braces ('{' and '}').\n",
      " |  \n",
      " |  index(...)\n",
      " |      S.index(sub[, start[, end]]) -> int\n",
      " |      \n",
      " |      Return the lowest index in S where substring sub is found, \n",
      " |      such that sub is contained within S[start:end].  Optional\n",
      " |      arguments start and end are interpreted as in slice notation.\n",
      " |      \n",
      " |      Raises ValueError when the substring is not found.\n",
      " |  \n",
      " |  isalnum(...)\n",
      " |      S.isalnum() -> bool\n",
      " |      \n",
      " |      Return True if all characters in S are alphanumeric\n",
      " |      and there is at least one character in S, False otherwise.\n",
      " |  \n",
      " |  isalpha(...)\n",
      " |      S.isalpha() -> bool\n",
      " |      \n",
      " |      Return True if all characters in S are alphabetic\n",
      " |      and there is at least one character in S, False otherwise.\n",
      " |  \n",
      " |  isdecimal(...)\n",
      " |      S.isdecimal() -> bool\n",
      " |      \n",
      " |      Return True if there are only decimal characters in S,\n",
      " |      False otherwise.\n",
      " |  \n",
      " |  isdigit(...)\n",
      " |      S.isdigit() -> bool\n",
      " |      \n",
      " |      Return True if all characters in S are digits\n",
      " |      and there is at least one character in S, False otherwise.\n",
      " |  \n",
      " |  isidentifier(...)\n",
      " |      S.isidentifier() -> bool\n",
      " |      \n",
      " |      Return True if S is a valid identifier according\n",
      " |      to the language definition.\n",
      " |      \n",
      " |      Use keyword.iskeyword() to test for reserved identifiers\n",
      " |      such as \"def\" and \"class\".\n",
      " |  \n",
      " |  islower(...)\n",
      " |      S.islower() -> bool\n",
      " |      \n",
      " |      Return True if all cased characters in S are lowercase and there is\n",
      " |      at least one cased character in S, False otherwise.\n",
      " |  \n",
      " |  isnumeric(...)\n",
      " |      S.isnumeric() -> bool\n",
      " |      \n",
      " |      Return True if there are only numeric characters in S,\n",
      " |      False otherwise.\n",
      " |  \n",
      " |  isprintable(...)\n",
      " |      S.isprintable() -> bool\n",
      " |      \n",
      " |      Return True if all characters in S are considered\n",
      " |      printable in repr() or S is empty, False otherwise.\n",
      " |  \n",
      " |  isspace(...)\n",
      " |      S.isspace() -> bool\n",
      " |      \n",
      " |      Return True if all characters in S are whitespace\n",
      " |      and there is at least one character in S, False otherwise.\n",
      " |  \n",
      " |  istitle(...)\n",
      " |      S.istitle() -> bool\n",
      " |      \n",
      " |      Return True if S is a titlecased string and there is at least one\n",
      " |      character in S, i.e. upper- and titlecase characters may only\n",
      " |      follow uncased characters and lowercase characters only cased ones.\n",
      " |      Return False otherwise.\n",
      " |  \n",
      " |  isupper(...)\n",
      " |      S.isupper() -> bool\n",
      " |      \n",
      " |      Return True if all cased characters in S are uppercase and there is\n",
      " |      at least one cased character in S, False otherwise.\n",
      " |  \n",
      " |  join(...)\n",
      " |      S.join(iterable) -> str\n",
      " |      \n",
      " |      Return a string which is the concatenation of the strings in the\n",
      " |      iterable.  The separator between elements is S.\n",
      " |  \n",
      " |  ljust(...)\n",
      " |      S.ljust(width[, fillchar]) -> str\n",
      " |      \n",
      " |      Return S left-justified in a Unicode string of length width. Padding is\n",
      " |      done using the specified fill character (default is a space).\n",
      " |  \n",
      " |  lower(...)\n",
      " |      S.lower() -> str\n",
      " |      \n",
      " |      Return a copy of the string S converted to lowercase.\n",
      " |  \n",
      " |  lstrip(...)\n",
      " |      S.lstrip([chars]) -> str\n",
      " |      \n",
      " |      Return a copy of the string S with leading whitespace removed.\n",
      " |      If chars is given and not None, remove characters in chars instead.\n",
      " |  \n",
      " |  partition(...)\n",
      " |      S.partition(sep) -> (head, sep, tail)\n",
      " |      \n",
      " |      Search for the separator sep in S, and return the part before it,\n",
      " |      the separator itself, and the part after it.  If the separator is not\n",
      " |      found, return S and two empty strings.\n",
      " |  \n",
      " |  replace(...)\n",
      " |      S.replace(old, new[, count]) -> str\n",
      " |      \n",
      " |      Return a copy of S with all occurrences of substring\n",
      " |      old replaced by new.  If the optional argument count is\n",
      " |      given, only the first count occurrences are replaced.\n",
      " |  \n",
      " |  rfind(...)\n",
      " |      S.rfind(sub[, start[, end]]) -> int\n",
      " |      \n",
      " |      Return the highest index in S where substring sub is found,\n",
      " |      such that sub is contained within S[start:end].  Optional\n",
      " |      arguments start and end are interpreted as in slice notation.\n",
      " |      \n",
      " |      Return -1 on failure.\n",
      " |  \n",
      " |  rindex(...)\n",
      " |      S.rindex(sub[, start[, end]]) -> int\n",
      " |      \n",
      " |      Return the highest index in S where substring sub is found,\n",
      " |      such that sub is contained within S[start:end].  Optional\n",
      " |      arguments start and end are interpreted as in slice notation.\n",
      " |      \n",
      " |      Raises ValueError when the substring is not found.\n",
      " |  \n",
      " |  rjust(...)\n",
      " |      S.rjust(width[, fillchar]) -> str\n",
      " |      \n",
      " |      Return S right-justified in a string of length width. Padding is\n",
      " |      done using the specified fill character (default is a space).\n",
      " |  \n",
      " |  rpartition(...)\n",
      " |      S.rpartition(sep) -> (head, sep, tail)\n",
      " |      \n",
      " |      Search for the separator sep in S, starting at the end of S, and return\n",
      " |      the part before it, the separator itself, and the part after it.  If the\n",
      " |      separator is not found, return two empty strings and S.\n",
      " |  \n",
      " |  rsplit(...)\n",
      " |      S.rsplit(sep=None, maxsplit=-1) -> list of strings\n",
      " |      \n",
      " |      Return a list of the words in S, using sep as the\n",
      " |      delimiter string, starting at the end of the string and\n",
      " |      working to the front.  If maxsplit is given, at most maxsplit\n",
      " |      splits are done. If sep is not specified, any whitespace string\n",
      " |      is a separator.\n",
      " |  \n",
      " |  rstrip(...)\n",
      " |      S.rstrip([chars]) -> str\n",
      " |      \n",
      " |      Return a copy of the string S with trailing whitespace removed.\n",
      " |      If chars is given and not None, remove characters in chars instead.\n",
      " |  \n",
      " |  split(...)\n",
      " |      S.split(sep=None, maxsplit=-1) -> list of strings\n",
      " |      \n",
      " |      Return a list of the words in S, using sep as the\n",
      " |      delimiter string.  If maxsplit is given, at most maxsplit\n",
      " |      splits are done. If sep is not specified or is None, any\n",
      " |      whitespace string is a separator and empty strings are\n",
      " |      removed from the result.\n",
      " |  \n",
      " |  splitlines(...)\n",
      " |      S.splitlines([keepends]) -> list of strings\n",
      " |      \n",
      " |      Return a list of the lines in S, breaking at line boundaries.\n",
      " |      Line breaks are not included in the resulting list unless keepends\n",
      " |      is given and true.\n",
      " |  \n",
      " |  startswith(...)\n",
      " |      S.startswith(prefix[, start[, end]]) -> bool\n",
      " |      \n",
      " |      Return True if S starts with the specified prefix, False otherwise.\n",
      " |      With optional start, test S beginning at that position.\n",
      " |      With optional end, stop comparing S at that position.\n",
      " |      prefix can also be a tuple of strings to try.\n",
      " |  \n",
      " |  strip(...)\n",
      " |      S.strip([chars]) -> str\n",
      " |      \n",
      " |      Return a copy of the string S with leading and trailing\n",
      " |      whitespace removed.\n",
      " |      If chars is given and not None, remove characters in chars instead.\n",
      " |  \n",
      " |  swapcase(...)\n",
      " |      S.swapcase() -> str\n",
      " |      \n",
      " |      Return a copy of S with uppercase characters converted to lowercase\n",
      " |      and vice versa.\n",
      " |  \n",
      " |  title(...)\n",
      " |      S.title() -> str\n",
      " |      \n",
      " |      Return a titlecased version of S, i.e. words start with title case\n",
      " |      characters, all remaining cased characters have lower case.\n",
      " |  \n",
      " |  translate(...)\n",
      " |      S.translate(table) -> str\n",
      " |      \n",
      " |      Return a copy of the string S in which each character has been mapped\n",
      " |      through the given translation table. The table must implement\n",
      " |      lookup/indexing via __getitem__, for instance a dictionary or list,\n",
      " |      mapping Unicode ordinals to Unicode ordinals, strings, or None. If\n",
      " |      this operation raises LookupError, the character is left untouched.\n",
      " |      Characters mapped to None are deleted.\n",
      " |  \n",
      " |  upper(...)\n",
      " |      S.upper() -> str\n",
      " |      \n",
      " |      Return a copy of S converted to uppercase.\n",
      " |  \n",
      " |  zfill(...)\n",
      " |      S.zfill(width) -> str\n",
      " |      \n",
      " |      Pad a numeric string S with zeros on the left, to fill a field\n",
      " |      of the specified width. The string S is never truncated.\n",
      " |  \n",
      " |  ----------------------------------------------------------------------\n",
      " |  Static methods defined here:\n",
      " |  \n",
      " |  maketrans(x, y=None, z=None, /)\n",
      " |      Return a translation table usable for str.translate().\n",
      " |      \n",
      " |      If there is only one argument, it must be a dictionary mapping Unicode\n",
      " |      ordinals (integers) or characters to Unicode ordinals, strings or None.\n",
      " |      Character keys will be then converted to ordinals.\n",
      " |      If there are two arguments, they must be strings of equal length, and\n",
      " |      in the resulting dictionary, each character in x will be mapped to the\n",
      " |      character at the same position in y. If there is a third argument, it\n",
      " |      must be a string, whose characters will be mapped to None in the result.\n",
      "\n"
     ]
    }
   ],
   "source": [
    "help(str)"
   ]
  },
  {
   "cell_type": "markdown",
   "metadata": {
    "colab_type": "text",
    "id": "Hfbd_F-BDg-N"
   },
   "source": [
    "\n",
    "### Basic Method Structure in Python :"
   ]
  },
  {
   "cell_type": "code",
   "execution_count": 0,
   "metadata": {
    "colab": {},
    "colab_type": "code",
    "id": "XlFB5QhKESjB"
   },
   "outputs": [],
   "source": [
    "# Basic Python method  \n",
    "class class_name \n",
    "    def method_name () : \n",
    "        ...... \n",
    "        # method body \n",
    "        ......  "
   ]
  },
  {
   "cell_type": "markdown",
   "metadata": {
    "colab_type": "text",
    "id": "Txwj_XlqEeNf"
   },
   "source": [
    "### Basic Function Structure in Python :"
   ]
  },
  {
   "cell_type": "code",
   "execution_count": 0,
   "metadata": {
    "colab": {},
    "colab_type": "code",
    "id": "DvzmUproEudU"
   },
   "outputs": [],
   "source": [
    "def function_name ( arg1, arg2, ...) : \n",
    "    ...... \n",
    "    # function body \n",
    "    ......    "
   ]
  },
  {
   "cell_type": "markdown",
   "metadata": {
    "colab_type": "text",
    "id": "EWMM8O3WDhMz"
   },
   "source": [
    "## Difference between method and function\n",
    "\n",
    "Simply, function and method both look similar as they perform in almost similar way, but the key difference is the concept of ‘Class and its Object‘.\n",
    "Functions can be called only by its name, as it is defined independently. But methods can’t be called by its name only, we need to invoke the class by a reference of that class in which it is defined, i.e. method is defined within a class and hence they are dependent on that class."
   ]
  },
  {
   "cell_type": "markdown",
   "metadata": {
    "colab_type": "text",
    "id": "uPGFg9KDFY88"
   },
   "source": [
    "### list methods\n",
    "\n"
   ]
  },
  {
   "cell_type": "code",
   "execution_count": 0,
   "metadata": {
    "colab": {},
    "colab_type": "code",
    "id": "v7C8FjoBFYVt"
   },
   "outputs": [],
   "source": [
    "fam = ['liz', 1.73, 'emma', 1.68, 'mom', 1.73, 'dad', 1.89]"
   ]
  },
  {
   "cell_type": "code",
   "execution_count": 0,
   "metadata": {
    "colab": {
     "base_uri": "https://localhost:8080/",
     "height": 34
    },
    "colab_type": "code",
    "executionInfo": {
     "elapsed": 991,
     "status": "ok",
     "timestamp": 1557027854700,
     "user": {
      "displayName": "hsu megan",
      "photoUrl": "",
      "userId": "05072458646650422245"
     },
     "user_tz": -480
    },
    "id": "YrAOmRdB_2v6",
    "outputId": "843ca818-ae79-41a4-ae7f-2a7386c1cc8b"
   },
   "outputs": [
    {
     "data": {
      "text/plain": [
       "4"
      ]
     },
     "execution_count": 54,
     "metadata": {
      "tags": []
     },
     "output_type": "execute_result"
    }
   ],
   "source": [
    "fam.index('mom')"
   ]
  },
  {
   "cell_type": "code",
   "execution_count": 0,
   "metadata": {
    "colab": {
     "base_uri": "https://localhost:8080/",
     "height": 52
    },
    "colab_type": "code",
    "executionInfo": {
     "elapsed": 768,
     "status": "ok",
     "timestamp": 1557027899382,
     "user": {
      "displayName": "hsu megan",
      "photoUrl": "",
      "userId": "05072458646650422245"
     },
     "user_tz": -480
    },
    "id": "wLswDq-v_2to",
    "outputId": "9e22c73a-8428-4d0d-aea3-0abe8a4db49a"
   },
   "outputs": [
    {
     "name": "stdout",
     "output_type": "stream",
     "text": [
      "2\n",
      "1\n"
     ]
    }
   ],
   "source": [
    "print(fam.count(1.73))\n",
    "print(fam.count(\"mom\"))"
   ]
  },
  {
   "cell_type": "markdown",
   "metadata": {
    "colab_type": "text",
    "id": "ErfrKNBJGIaM"
   },
   "source": [
    "### str methods"
   ]
  },
  {
   "cell_type": "code",
   "execution_count": 0,
   "metadata": {
    "colab": {
     "base_uri": "https://localhost:8080/",
     "height": 34
    },
    "colab_type": "code",
    "executionInfo": {
     "elapsed": 761,
     "status": "ok",
     "timestamp": 1557027927823,
     "user": {
      "displayName": "hsu megan",
      "photoUrl": "",
      "userId": "05072458646650422245"
     },
     "user_tz": -480
    },
    "id": "Hdf7H1Yw_2rT",
    "outputId": "97cfec68-04a8-45f9-dddb-28e97fa2860e"
   },
   "outputs": [
    {
     "data": {
      "text/plain": [
       "'liz'"
      ]
     },
     "execution_count": 59,
     "metadata": {
      "tags": []
     },
     "output_type": "execute_result"
    }
   ],
   "source": [
    "sister"
   ]
  },
  {
   "cell_type": "code",
   "execution_count": 0,
   "metadata": {
    "colab": {
     "base_uri": "https://localhost:8080/",
     "height": 34
    },
    "colab_type": "code",
    "executionInfo": {
     "elapsed": 861,
     "status": "ok",
     "timestamp": 1557027941192,
     "user": {
      "displayName": "hsu megan",
      "photoUrl": "",
      "userId": "05072458646650422245"
     },
     "user_tz": -480
    },
    "id": "5dfBBmkf_2ow",
    "outputId": "e316ec2b-55be-482f-ee7b-e0f5de67411f"
   },
   "outputs": [
    {
     "data": {
      "text/plain": [
       "'Liz'"
      ]
     },
     "execution_count": 60,
     "metadata": {
      "tags": []
     },
     "output_type": "execute_result"
    }
   ],
   "source": [
    "sister.capitalize()"
   ]
  },
  {
   "cell_type": "code",
   "execution_count": 0,
   "metadata": {
    "colab": {
     "base_uri": "https://localhost:8080/",
     "height": 34
    },
    "colab_type": "code",
    "executionInfo": {
     "elapsed": 774,
     "status": "ok",
     "timestamp": 1557027969307,
     "user": {
      "displayName": "hsu megan",
      "photoUrl": "",
      "userId": "05072458646650422245"
     },
     "user_tz": -480
    },
    "id": "zFXkyNP1_2mj",
    "outputId": "15530b7c-58dc-4bda-c72a-333bd66484e7"
   },
   "outputs": [
    {
     "data": {
      "text/plain": [
       "'lisa'"
      ]
     },
     "execution_count": 62,
     "metadata": {
      "tags": []
     },
     "output_type": "execute_result"
    }
   ],
   "source": [
    "sister.replace('z', 'sa')"
   ]
  },
  {
   "cell_type": "markdown",
   "metadata": {
    "colab_type": "text",
    "id": "MYVfdvnBGYlD"
   },
   "source": [
    "Methods\n",
    "\n",
    "> Everything = object\n",
    "\n",
    "\n",
    "> Object have methods associated, depending on type"
   ]
  },
  {
   "cell_type": "code",
   "execution_count": 0,
   "metadata": {
    "colab": {
     "base_uri": "https://localhost:8080/",
     "height": 34
    },
    "colab_type": "code",
    "executionInfo": {
     "elapsed": 789,
     "status": "ok",
     "timestamp": 1557028394766,
     "user": {
      "displayName": "hsu megan",
      "photoUrl": "",
      "userId": "05072458646650422245"
     },
     "user_tz": -480
    },
    "id": "n2if6buB_2kM",
    "outputId": "68e8034e-b994-4bab-c1cc-4c7190ac78a4"
   },
   "outputs": [
    {
     "data": {
      "text/plain": [
       "'lisa'"
      ]
     },
     "execution_count": 73,
     "metadata": {
      "tags": []
     },
     "output_type": "execute_result"
    }
   ],
   "source": [
    "sister.replace('z', 'sa')"
   ]
  },
  {
   "cell_type": "code",
   "execution_count": 0,
   "metadata": {
    "colab": {
     "base_uri": "https://localhost:8080/",
     "height": 34
    },
    "colab_type": "code",
    "executionInfo": {
     "elapsed": 746,
     "status": "ok",
     "timestamp": 1557028546361,
     "user": {
      "displayName": "hsu megan",
      "photoUrl": "",
      "userId": "05072458646650422245"
     },
     "user_tz": -480
    },
    "id": "sCn0gg64IB13",
    "outputId": "cf6b2e5b-d1c4-4c1d-95c7-cd9de3c71dc3"
   },
   "outputs": [
    {
     "data": {
      "text/plain": [
       "'liz'"
      ]
     },
     "execution_count": 74,
     "metadata": {
      "tags": []
     },
     "output_type": "execute_result"
    }
   ],
   "source": [
    "sister"
   ]
  },
  {
   "cell_type": "code",
   "execution_count": 0,
   "metadata": {
    "colab": {},
    "colab_type": "code",
    "id": "-kkrRpdW_2h_"
   },
   "outputs": [],
   "source": [
    "# fam = ['liz', 1.73, 'emma', 1.68, 'mom', 1.73, 'dad', 1.89]\n",
    "# list' object has no attribute 'replace'\n",
    "fam.replace(\"mom\", \"mommy\")"
   ]
  },
  {
   "cell_type": "code",
   "execution_count": 0,
   "metadata": {
    "colab": {
     "base_uri": "https://localhost:8080/",
     "height": 34
    },
    "colab_type": "code",
    "executionInfo": {
     "elapsed": 764,
     "status": "ok",
     "timestamp": 1557028308620,
     "user": {
      "displayName": "hsu megan",
      "photoUrl": "",
      "userId": "05072458646650422245"
     },
     "user_tz": -480
    },
    "id": "WM7qjGy9_2f5",
    "outputId": "91b3baec-086a-43d4-be5e-b0c8e3770ad8"
   },
   "outputs": [
    {
     "data": {
      "text/plain": [
       "2"
      ]
     },
     "execution_count": 69,
     "metadata": {
      "tags": []
     },
     "output_type": "execute_result"
    }
   ],
   "source": [
    "sister = \"liz\"\n",
    "sister.index(\"z\")"
   ]
  },
  {
   "cell_type": "code",
   "execution_count": 0,
   "metadata": {
    "colab": {
     "base_uri": "https://localhost:8080/",
     "height": 34
    },
    "colab_type": "code",
    "executionInfo": {
     "elapsed": 801,
     "status": "ok",
     "timestamp": 1557028239708,
     "user": {
      "displayName": "hsu megan",
      "photoUrl": "",
      "userId": "05072458646650422245"
     },
     "user_tz": -480
    },
    "id": "s3lF7RFf_2dW",
    "outputId": "48ac2a7b-b379-46fe-9791-762fb473e31b"
   },
   "outputs": [
    {
     "data": {
      "text/plain": [
       "4"
      ]
     },
     "execution_count": 67,
     "metadata": {
      "tags": []
     },
     "output_type": "execute_result"
    }
   ],
   "source": [
    "fam.index(\"mom\")"
   ]
  },
  {
   "cell_type": "code",
   "execution_count": 8,
   "metadata": {
    "colab": {
     "base_uri": "https://localhost:8080/",
     "height": 34
    },
    "colab_type": "code",
    "executionInfo": {
     "elapsed": 1294,
     "status": "ok",
     "timestamp": 1557153411636,
     "user": {
      "displayName": "hsu megan",
      "photoUrl": "",
      "userId": "05072458646650422245"
     },
     "user_tz": -480
    },
    "id": "qpiAk5ItHrQW",
    "outputId": "80c5e388-d42d-44c8-cf52-e7e0dd8e299c"
   },
   "outputs": [
    {
     "data": {
      "text/plain": [
       "['liz', 1.73, 'emma', 1.68, 'mom', 1.73, 'dad', 1.89, 'me']"
      ]
     },
     "execution_count": 8,
     "metadata": {
      "tags": []
     },
     "output_type": "execute_result"
    }
   ],
   "source": [
    "fam = ['liz', 1.73, 'emma', 1.68, 'mom', 1.73, 'dad', 1.89]\n",
    "fam.append(\"me\")\n",
    "fam"
   ]
  },
  {
   "cell_type": "code",
   "execution_count": 0,
   "metadata": {
    "colab": {
     "base_uri": "https://localhost:8080/",
     "height": 34
    },
    "colab_type": "code",
    "executionInfo": {
     "elapsed": 699,
     "status": "ok",
     "timestamp": 1557065186330,
     "user": {
      "displayName": "hsu megan",
      "photoUrl": "",
      "userId": "05072458646650422245"
     },
     "user_tz": -480
    },
    "id": "kumD9bhjHrYq",
    "outputId": "a4548be6-7232-45cf-b809-14bd8c480324"
   },
   "outputs": [
    {
     "data": {
      "text/plain": [
       "['liz', 1.73, 'emma', 1.68, 'mom', 1.73, 'dad', 1.89, 'me', 1.79]"
      ]
     },
     "execution_count": 4,
     "metadata": {
      "tags": []
     },
     "output_type": "execute_result"
    }
   ],
   "source": [
    "fam.append(1.79)\n",
    "fam"
   ]
  },
  {
   "cell_type": "markdown",
   "metadata": {
    "colab_type": "text",
    "id": "8Ojc6MnaNkyd"
   },
   "source": [
    "Functions"
   ]
  },
  {
   "cell_type": "code",
   "execution_count": 0,
   "metadata": {
    "colab": {
     "base_uri": "https://localhost:8080/",
     "height": 34
    },
    "colab_type": "code",
    "executionInfo": {
     "elapsed": 799,
     "status": "ok",
     "timestamp": 1557029896817,
     "user": {
      "displayName": "hsu megan",
      "photoUrl": "",
      "userId": "05072458646650422245"
     },
     "user_tz": -480
    },
    "id": "gckOc4miHrWa",
    "outputId": "ba0d6101-525c-4fdc-c53c-15202aca9f2c"
   },
   "outputs": [
    {
     "data": {
      "text/plain": [
       "list"
      ]
     },
     "execution_count": 75,
     "metadata": {
      "tags": []
     },
     "output_type": "execute_result"
    }
   ],
   "source": [
    "type(fam)"
   ]
  },
  {
   "cell_type": "code",
   "execution_count": 9,
   "metadata": {
    "colab": {
     "base_uri": "https://localhost:8080/",
     "height": 34
    },
    "colab_type": "code",
    "executionInfo": {
     "elapsed": 1087,
     "status": "ok",
     "timestamp": 1557153414338,
     "user": {
      "displayName": "hsu megan",
      "photoUrl": "",
      "userId": "05072458646650422245"
     },
     "user_tz": -480
    },
    "id": "xD4N3M2hHrT7",
    "outputId": "6d47a92c-5f95-4ed8-c8f8-2306f42c3bc2"
   },
   "outputs": [
    {
     "data": {
      "text/plain": [
       "4"
      ]
     },
     "execution_count": 9,
     "metadata": {
      "tags": []
     },
     "output_type": "execute_result"
    }
   ],
   "source": [
    "fam.index(\"mom\")"
   ]
  },
  {
   "cell_type": "markdown",
   "metadata": {
    "colab_type": "text",
    "id": "orJCD2nWk54W"
   },
   "source": [
    "## 資料匯入匯出\n",
    "## 資料結構與處理(清理)\n",
    "## 常用模組套件: Numpy/pandas"
   ]
  },
  {
   "cell_type": "markdown",
   "metadata": {
    "colab_type": "text",
    "id": "6WmI8gfTUvE5"
   },
   "source": [
    "---\n",
    "# Data pre-process: 使用 [Pandas](https://pandas.pydata.org/pandas-docs/stable/user_guide/index.html)"
   ]
  },
  {
   "cell_type": "markdown",
   "metadata": {},
   "source": [
    "# 寫入檔案"
   ]
  },
  {
   "cell_type": "code",
   "execution_count": null,
   "metadata": {},
   "outputs": [],
   "source": [
    "# Writing Hello World Into test.txt\n",
    "fid = open('test.txt', 'w')\n",
    "fid.write('Hello\\nWorld')\n",
    "fid.close()"
   ]
  },
  {
   "cell_type": "markdown",
   "metadata": {
    "colab_type": "text",
    "id": "Y9rNeDpFlRHM"
   },
   "source": [
    "\n",
    "# 讀取檔案：\n"
   ]
  },
  {
   "cell_type": "code",
   "execution_count": 86,
   "metadata": {},
   "outputs": [
    {
     "name": "stdout",
     "output_type": "stream",
     "text": [
      "Line: Hello\n",
      "Line: World\n"
     ]
    }
   ],
   "source": [
    "# Load Hello World\n",
    "fid = open('test.txt', 'r')\n",
    "for line in fid: # Using file identifier as iterator\n",
    "    print(\"Line: \" + line.strip())\n",
    "fid.close()"
   ]
  },
  {
   "cell_type": "code",
   "execution_count": 88,
   "metadata": {},
   "outputs": [
    {
     "name": "stdout",
     "output_type": "stream",
     "text": [
      "Hello\n",
      "World\n"
     ]
    }
   ],
   "source": [
    "# Load Hello World\n",
    "fid = open('test.txt', 'r')\n",
    "s = fid.read() # Read the entire file\n",
    "print(s)\n",
    "fid.close()"
   ]
  },
  {
   "cell_type": "markdown",
   "metadata": {},
   "source": [
    "# 資料匯入"
   ]
  },
  {
   "cell_type": "code",
   "execution_count": 90,
   "metadata": {
    "scrolled": true
   },
   "outputs": [
    {
     "data": {
      "text/html": [
       "<div>\n",
       "<style scoped>\n",
       "    .dataframe tbody tr th:only-of-type {\n",
       "        vertical-align: middle;\n",
       "    }\n",
       "\n",
       "    .dataframe tbody tr th {\n",
       "        vertical-align: top;\n",
       "    }\n",
       "\n",
       "    .dataframe thead th {\n",
       "        text-align: right;\n",
       "    }\n",
       "</style>\n",
       "<table border=\"1\" class=\"dataframe\">\n",
       "  <thead>\n",
       "    <tr style=\"text-align: right;\">\n",
       "      <th></th>\n",
       "      <th>id</th>\n",
       "      <th>date</th>\n",
       "      <th>store_nbr</th>\n",
       "      <th>item_nbr</th>\n",
       "      <th>unit_sales</th>\n",
       "      <th>onpromotion</th>\n",
       "    </tr>\n",
       "  </thead>\n",
       "  <tbody>\n",
       "    <tr>\n",
       "      <th>0</th>\n",
       "      <td>30787</td>\n",
       "      <td>2013-01-02</td>\n",
       "      <td>41</td>\n",
       "      <td>105574</td>\n",
       "      <td>2.0</td>\n",
       "      <td>NaN</td>\n",
       "    </tr>\n",
       "    <tr>\n",
       "      <th>1</th>\n",
       "      <td>30788</td>\n",
       "      <td>2013-01-02</td>\n",
       "      <td>41</td>\n",
       "      <td>105575</td>\n",
       "      <td>9.0</td>\n",
       "      <td>NaN</td>\n",
       "    </tr>\n",
       "    <tr>\n",
       "      <th>2</th>\n",
       "      <td>30789</td>\n",
       "      <td>2013-01-02</td>\n",
       "      <td>41</td>\n",
       "      <td>105577</td>\n",
       "      <td>18.0</td>\n",
       "      <td>NaN</td>\n",
       "    </tr>\n",
       "  </tbody>\n",
       "</table>\n",
       "</div>"
      ],
      "text/plain": [
       "      id        date  store_nbr  item_nbr  unit_sales  onpromotion\n",
       "0  30787  2013-01-02         41    105574         2.0          NaN\n",
       "1  30788  2013-01-02         41    105575         9.0          NaN\n",
       "2  30789  2013-01-02         41    105577        18.0          NaN"
      ]
     },
     "execution_count": 90,
     "metadata": {},
     "output_type": "execute_result"
    }
   ],
   "source": [
    "# 讀取檔案, 成為 pandas 的 dataframe 類型 (像 table)\n",
    "# 匯入 pandas 模組\n",
    "import pandas as pd\n",
    "\n",
    "# 讀取 df_train_41_2013.csv: \n",
    "# 使用 pd.read_csv() 方式建立 dataframe (後面簡稱 df)\n",
    "train_41_2013 = pd.read_csv('df_train_41_2013.csv')\n",
    "train_41_2013.head(3)"
   ]
  },
  {
   "cell_type": "markdown",
   "metadata": {},
   "source": [
    "# 資料匯出"
   ]
  },
  {
   "cell_type": "code",
   "execution_count": 91,
   "metadata": {},
   "outputs": [],
   "source": [
    "##資料匯出為CSV\n",
    "train_41_2013.to_csv(r'Load_train_oil.csv')"
   ]
  },
  {
   "cell_type": "markdown",
   "metadata": {},
   "source": [
    "# 資料結構與處理(清理)\n",
    "# 常用模組套件: Numpy/pandas"
   ]
  },
  {
   "cell_type": "markdown",
   "metadata": {
    "colab_type": "text",
    "id": "hr9Mw8Q4MTIq"
   },
   "source": [
    "## pd.read_csv() - 讀取 CSV, TSV 檔\n",
    "\n",
    "[Pandas - pd.read_csv() 官方文件](https://pandas.pydata.org/pandas-docs/stable/reference/api/pandas.read_csv.html)"
   ]
  },
  {
   "cell_type": "code",
   "execution_count": 38,
   "metadata": {
    "colab": {
     "base_uri": "https://localhost:8080/",
     "height": 52
    },
    "colab_type": "code",
    "executionInfo": {
     "elapsed": 2396,
     "status": "ok",
     "timestamp": 1557022215561,
     "user": {
      "displayName": "Po-Ying Fu",
      "photoUrl": "https://lh5.googleusercontent.com/-Ky_-P6jfDNs/AAAAAAAAAAI/AAAAAAAA0qY/HLawVg89qNo/s64/photo.jpg",
      "userId": "09435303200733751587"
     },
     "user_tz": -480
    },
    "id": "9LiYKwJfI9pm",
    "outputId": "a0a2ced7-4e60-4cff-edfb-013e19d975c9"
   },
   "outputs": [
    {
     "data": {
      "text/plain": [
       "'C:\\\\Users\\\\USER\\\\Google 雲端硬碟\\\\01Python 基礎與實作練習'"
      ]
     },
     "execution_count": 38,
     "metadata": {},
     "output_type": "execute_result"
    }
   ],
   "source": [
    "# 列出現在位置的文件\n",
    "%pwd"
   ]
  },
  {
   "cell_type": "code",
   "execution_count": 42,
   "metadata": {
    "colab": {
     "base_uri": "https://localhost:8080/",
     "height": 141
    },
    "colab_type": "code",
    "executionInfo": {
     "elapsed": 743,
     "status": "ok",
     "timestamp": 1557034401388,
     "user": {
      "displayName": "Po-Ying Fu",
      "photoUrl": "https://lh5.googleusercontent.com/-Ky_-P6jfDNs/AAAAAAAAAAI/AAAAAAAA0qY/HLawVg89qNo/s64/photo.jpg",
      "userId": "09435303200733751587"
     },
     "user_tz": -480
    },
    "id": "M21R9HHuSWY2",
    "outputId": "984315c7-ca30-42ea-f6e6-128414a939f7"
   },
   "outputs": [
    {
     "data": {
      "text/html": [
       "<div>\n",
       "<style scoped>\n",
       "    .dataframe tbody tr th:only-of-type {\n",
       "        vertical-align: middle;\n",
       "    }\n",
       "\n",
       "    .dataframe tbody tr th {\n",
       "        vertical-align: top;\n",
       "    }\n",
       "\n",
       "    .dataframe thead th {\n",
       "        text-align: right;\n",
       "    }\n",
       "</style>\n",
       "<table border=\"1\" class=\"dataframe\">\n",
       "  <thead>\n",
       "    <tr style=\"text-align: right;\">\n",
       "      <th></th>\n",
       "      <th>id</th>\n",
       "      <th>date</th>\n",
       "      <th>store_nbr</th>\n",
       "      <th>item_nbr</th>\n",
       "      <th>unit_sales</th>\n",
       "      <th>onpromotion</th>\n",
       "    </tr>\n",
       "  </thead>\n",
       "  <tbody>\n",
       "    <tr>\n",
       "      <th>0</th>\n",
       "      <td>30787</td>\n",
       "      <td>2013-01-02</td>\n",
       "      <td>41</td>\n",
       "      <td>105574</td>\n",
       "      <td>2.0</td>\n",
       "      <td>NaN</td>\n",
       "    </tr>\n",
       "    <tr>\n",
       "      <th>1</th>\n",
       "      <td>30788</td>\n",
       "      <td>2013-01-02</td>\n",
       "      <td>41</td>\n",
       "      <td>105575</td>\n",
       "      <td>9.0</td>\n",
       "      <td>NaN</td>\n",
       "    </tr>\n",
       "    <tr>\n",
       "      <th>2</th>\n",
       "      <td>30789</td>\n",
       "      <td>2013-01-02</td>\n",
       "      <td>41</td>\n",
       "      <td>105577</td>\n",
       "      <td>18.0</td>\n",
       "      <td>NaN</td>\n",
       "    </tr>\n",
       "  </tbody>\n",
       "</table>\n",
       "</div>"
      ],
      "text/plain": [
       "      id        date  store_nbr  item_nbr  unit_sales  onpromotion\n",
       "0  30787  2013-01-02         41    105574         2.0          NaN\n",
       "1  30788  2013-01-02         41    105575         9.0          NaN\n",
       "2  30789  2013-01-02         41    105577        18.0          NaN"
      ]
     },
     "execution_count": 42,
     "metadata": {},
     "output_type": "execute_result"
    }
   ],
   "source": [
    "# 讀取檔案, 成為 pandas 的 dataframe 類型 (像 table)\n",
    "# 匯入 pandas 模組\n",
    "import pandas as pd\n",
    "\n",
    "# 讀取 df_train_41_2013.csv: \n",
    "# 使用 pd.read_csv() 方式建立 dataframe (後面簡稱 df)\n",
    "train_41_2013 = pd.read_csv('df_train_41_2013.csv')\n",
    "train_41_2013.head(3)"
   ]
  },
  {
   "cell_type": "markdown",
   "metadata": {
    "colab_type": "text",
    "id": "O_Gt57qrL9G1"
   },
   "source": [
    "## df.info() - 看各欄位資訊\n",
    "\n",
    "[Pandas - info() 官方文件](https://pandas.pydata.org/pandas-docs/stable/reference/api/pandas.DataFrame.info.html)"
   ]
  },
  {
   "cell_type": "code",
   "execution_count": 43,
   "metadata": {
    "colab": {
     "base_uri": "https://localhost:8080/",
     "height": 208
    },
    "colab_type": "code",
    "executionInfo": {
     "elapsed": 703,
     "status": "ok",
     "timestamp": 1557034414550,
     "user": {
      "displayName": "Po-Ying Fu",
      "photoUrl": "https://lh5.googleusercontent.com/-Ky_-P6jfDNs/AAAAAAAAAAI/AAAAAAAA0qY/HLawVg89qNo/s64/photo.jpg",
      "userId": "09435303200733751587"
     },
     "user_tz": -480
    },
    "id": "ywMJOxJfL_WF",
    "outputId": "4bf7a53e-82b1-4826-d578-2bb5badd22b5"
   },
   "outputs": [
    {
     "name": "stdout",
     "output_type": "stream",
     "text": [
      "<class 'pandas.core.frame.DataFrame'>\n",
      "RangeIndex: 336828 entries, 0 to 336827\n",
      "Data columns (total 6 columns):\n",
      "id             336828 non-null int64\n",
      "date           336828 non-null object\n",
      "store_nbr      336828 non-null int64\n",
      "item_nbr       336828 non-null int64\n",
      "unit_sales     336828 non-null float64\n",
      "onpromotion    0 non-null float64\n",
      "dtypes: float64(2), int64(3), object(1)\n",
      "memory usage: 14.1+ MB\n"
     ]
    }
   ],
   "source": [
    "# prints information about a DataFrame:\n",
    "train_41_2013.info()"
   ]
  },
  {
   "cell_type": "markdown",
   "metadata": {
    "colab_type": "text",
    "id": "71FP7FAUvfLv"
   },
   "source": [
    "object - 文字型別\n",
    "\n",
    "int64 - 整數型別\n",
    "\n",
    "float64 - 浮點數型別\n",
    "\n",
    "注意: onpromotion    0 non-null float64\n"
   ]
  },
  {
   "cell_type": "markdown",
   "metadata": {
    "colab_type": "text",
    "id": "kiJaNMEWTeSV"
   },
   "source": [
    "## df.describe() - 數值型變數的統計資料\n",
    "\n",
    "[Pandas - describe() 官方文件](https://pandas.pydata.org/pandas-docs/stable/reference/api/pandas.DataFrame.describe.html)"
   ]
  },
  {
   "cell_type": "code",
   "execution_count": 44,
   "metadata": {
    "colab": {
     "base_uri": "https://localhost:8080/",
     "height": 141
    },
    "colab_type": "code",
    "executionInfo": {
     "elapsed": 984,
     "status": "ok",
     "timestamp": 1557034427385,
     "user": {
      "displayName": "Po-Ying Fu",
      "photoUrl": "https://lh5.googleusercontent.com/-Ky_-P6jfDNs/AAAAAAAAAAI/AAAAAAAA0qY/HLawVg89qNo/s64/photo.jpg",
      "userId": "09435303200733751587"
     },
     "user_tz": -480
    },
    "id": "M0g1-t5qJAuG",
    "outputId": "13a73092-8445-43d0-b021-d9585bac2ab8"
   },
   "outputs": [
    {
     "data": {
      "text/html": [
       "<div>\n",
       "<style scoped>\n",
       "    .dataframe tbody tr th:only-of-type {\n",
       "        vertical-align: middle;\n",
       "    }\n",
       "\n",
       "    .dataframe tbody tr th {\n",
       "        vertical-align: top;\n",
       "    }\n",
       "\n",
       "    .dataframe thead th {\n",
       "        text-align: right;\n",
       "    }\n",
       "</style>\n",
       "<table border=\"1\" class=\"dataframe\">\n",
       "  <thead>\n",
       "    <tr style=\"text-align: right;\">\n",
       "      <th></th>\n",
       "      <th>id</th>\n",
       "      <th>date</th>\n",
       "      <th>store_nbr</th>\n",
       "      <th>item_nbr</th>\n",
       "      <th>unit_sales</th>\n",
       "      <th>onpromotion</th>\n",
       "    </tr>\n",
       "  </thead>\n",
       "  <tbody>\n",
       "    <tr>\n",
       "      <th>0</th>\n",
       "      <td>30787</td>\n",
       "      <td>2013-01-02</td>\n",
       "      <td>41</td>\n",
       "      <td>105574</td>\n",
       "      <td>2.0</td>\n",
       "      <td>NaN</td>\n",
       "    </tr>\n",
       "    <tr>\n",
       "      <th>1</th>\n",
       "      <td>30788</td>\n",
       "      <td>2013-01-02</td>\n",
       "      <td>41</td>\n",
       "      <td>105575</td>\n",
       "      <td>9.0</td>\n",
       "      <td>NaN</td>\n",
       "    </tr>\n",
       "    <tr>\n",
       "      <th>2</th>\n",
       "      <td>30789</td>\n",
       "      <td>2013-01-02</td>\n",
       "      <td>41</td>\n",
       "      <td>105577</td>\n",
       "      <td>18.0</td>\n",
       "      <td>NaN</td>\n",
       "    </tr>\n",
       "  </tbody>\n",
       "</table>\n",
       "</div>"
      ],
      "text/plain": [
       "      id        date  store_nbr  item_nbr  unit_sales  onpromotion\n",
       "0  30787  2013-01-02         41    105574         2.0          NaN\n",
       "1  30788  2013-01-02         41    105575         9.0          NaN\n",
       "2  30789  2013-01-02         41    105577        18.0          NaN"
      ]
     },
     "execution_count": 44,
     "metadata": {},
     "output_type": "execute_result"
    }
   ],
   "source": [
    "# 看一下 data\n",
    "train_41_2013.head(3)"
   ]
  },
  {
   "cell_type": "code",
   "execution_count": 45,
   "metadata": {
    "colab": {
     "base_uri": "https://localhost:8080/",
     "height": 35
    },
    "colab_type": "code",
    "executionInfo": {
     "elapsed": 849,
     "status": "ok",
     "timestamp": 1557024974308,
     "user": {
      "displayName": "Po-Ying Fu",
      "photoUrl": "https://lh5.googleusercontent.com/-Ky_-P6jfDNs/AAAAAAAAAAI/AAAAAAAA0qY/HLawVg89qNo/s64/photo.jpg",
      "userId": "09435303200733751587"
     },
     "user_tz": -480
    },
    "id": "EzyvO4_vydm-",
    "outputId": "21e879e2-fc64-4f70-d87e-fa7c25ee6304"
   },
   "outputs": [
    {
     "data": {
      "text/plain": [
       "5.110738908285535"
      ]
     },
     "execution_count": 45,
     "metadata": {},
     "output_type": "execute_result"
    }
   ],
   "source": [
    "# mean() 平均值: 需指定某一個數值型欄位! 其他還有 sum() 加總﹑median() 中位數、...\n",
    "train_41_2013['unit_sales'].mean()"
   ]
  },
  {
   "cell_type": "code",
   "execution_count": 46,
   "metadata": {
    "colab": {
     "base_uri": "https://localhost:8080/",
     "height": 294
    },
    "colab_type": "code",
    "executionInfo": {
     "elapsed": 858,
     "status": "ok",
     "timestamp": 1557024975911,
     "user": {
      "displayName": "Po-Ying Fu",
      "photoUrl": "https://lh5.googleusercontent.com/-Ky_-P6jfDNs/AAAAAAAAAAI/AAAAAAAA0qY/HLawVg89qNo/s64/photo.jpg",
      "userId": "09435303200733751587"
     },
     "user_tz": -480
    },
    "id": "B7DJVezsThQU",
    "outputId": "6e60f916-0571-434c-de5c-7bc2f0512f78"
   },
   "outputs": [
    {
     "data": {
      "text/html": [
       "<div>\n",
       "<style scoped>\n",
       "    .dataframe tbody tr th:only-of-type {\n",
       "        vertical-align: middle;\n",
       "    }\n",
       "\n",
       "    .dataframe tbody tr th {\n",
       "        vertical-align: top;\n",
       "    }\n",
       "\n",
       "    .dataframe thead th {\n",
       "        text-align: right;\n",
       "    }\n",
       "</style>\n",
       "<table border=\"1\" class=\"dataframe\">\n",
       "  <thead>\n",
       "    <tr style=\"text-align: right;\">\n",
       "      <th></th>\n",
       "      <th>id</th>\n",
       "      <th>store_nbr</th>\n",
       "      <th>item_nbr</th>\n",
       "      <th>unit_sales</th>\n",
       "      <th>onpromotion</th>\n",
       "    </tr>\n",
       "  </thead>\n",
       "  <tbody>\n",
       "    <tr>\n",
       "      <th>count</th>\n",
       "      <td>3.368280e+05</td>\n",
       "      <td>336828.0</td>\n",
       "      <td>3.368280e+05</td>\n",
       "      <td>336828.000000</td>\n",
       "      <td>0.0</td>\n",
       "    </tr>\n",
       "    <tr>\n",
       "      <th>mean</th>\n",
       "      <td>8.161974e+06</td>\n",
       "      <td>41.0</td>\n",
       "      <td>6.590917e+05</td>\n",
       "      <td>5.110739</td>\n",
       "      <td>NaN</td>\n",
       "    </tr>\n",
       "    <tr>\n",
       "      <th>std</th>\n",
       "      <td>4.711890e+06</td>\n",
       "      <td>0.0</td>\n",
       "      <td>3.215904e+05</td>\n",
       "      <td>12.810942</td>\n",
       "      <td>NaN</td>\n",
       "    </tr>\n",
       "    <tr>\n",
       "      <th>min</th>\n",
       "      <td>3.078700e+04</td>\n",
       "      <td>41.0</td>\n",
       "      <td>9.699500e+04</td>\n",
       "      <td>-27.000000</td>\n",
       "      <td>NaN</td>\n",
       "    </tr>\n",
       "    <tr>\n",
       "      <th>25%</th>\n",
       "      <td>4.072356e+06</td>\n",
       "      <td>41.0</td>\n",
       "      <td>3.681360e+05</td>\n",
       "      <td>1.754000</td>\n",
       "      <td>NaN</td>\n",
       "    </tr>\n",
       "    <tr>\n",
       "      <th>50%</th>\n",
       "      <td>8.177278e+06</td>\n",
       "      <td>41.0</td>\n",
       "      <td>6.710830e+05</td>\n",
       "      <td>3.000000</td>\n",
       "      <td>NaN</td>\n",
       "    </tr>\n",
       "    <tr>\n",
       "      <th>75%</th>\n",
       "      <td>1.224326e+07</td>\n",
       "      <td>41.0</td>\n",
       "      <td>9.385670e+05</td>\n",
       "      <td>6.000000</td>\n",
       "      <td>NaN</td>\n",
       "    </tr>\n",
       "    <tr>\n",
       "      <th>max</th>\n",
       "      <td>1.625867e+07</td>\n",
       "      <td>41.0</td>\n",
       "      <td>1.246785e+06</td>\n",
       "      <td>4236.000000</td>\n",
       "      <td>NaN</td>\n",
       "    </tr>\n",
       "  </tbody>\n",
       "</table>\n",
       "</div>"
      ],
      "text/plain": [
       "                 id  store_nbr      item_nbr     unit_sales  onpromotion\n",
       "count  3.368280e+05   336828.0  3.368280e+05  336828.000000          0.0\n",
       "mean   8.161974e+06       41.0  6.590917e+05       5.110739          NaN\n",
       "std    4.711890e+06        0.0  3.215904e+05      12.810942          NaN\n",
       "min    3.078700e+04       41.0  9.699500e+04     -27.000000          NaN\n",
       "25%    4.072356e+06       41.0  3.681360e+05       1.754000          NaN\n",
       "50%    8.177278e+06       41.0  6.710830e+05       3.000000          NaN\n",
       "75%    1.224326e+07       41.0  9.385670e+05       6.000000          NaN\n",
       "max    1.625867e+07       41.0  1.246785e+06    4236.000000          NaN"
      ]
     },
     "execution_count": 46,
     "metadata": {},
     "output_type": "execute_result"
    }
   ],
   "source": [
    "# Generate descriptive statistics: (可以整個 table 一起看)\n",
    "train_41_2013.describe()"
   ]
  },
  {
   "cell_type": "markdown",
   "metadata": {
    "colab_type": "text",
    "id": "Y3MJzcLnL0uw"
   },
   "source": [
    "## df.dtypes - 看各欄位的 data types\n",
    "\n",
    "[Pandas - dtypes 官方文件](https://pandas.pydata.org/pandas-docs/stable/reference/api/pandas.DataFrame.dtypes.html)"
   ]
  },
  {
   "cell_type": "code",
   "execution_count": 47,
   "metadata": {
    "colab": {
     "base_uri": "https://localhost:8080/",
     "height": 141
    },
    "colab_type": "code",
    "executionInfo": {
     "elapsed": 796,
     "status": "ok",
     "timestamp": 1557024978497,
     "user": {
      "displayName": "Po-Ying Fu",
      "photoUrl": "https://lh5.googleusercontent.com/-Ky_-P6jfDNs/AAAAAAAAAAI/AAAAAAAA0qY/HLawVg89qNo/s64/photo.jpg",
      "userId": "09435303200733751587"
     },
     "user_tz": -480
    },
    "id": "hcf-X9aCJDxk",
    "outputId": "92311600-e2b4-458d-cea3-8cb4cc48234f"
   },
   "outputs": [
    {
     "data": {
      "text/html": [
       "<div>\n",
       "<style scoped>\n",
       "    .dataframe tbody tr th:only-of-type {\n",
       "        vertical-align: middle;\n",
       "    }\n",
       "\n",
       "    .dataframe tbody tr th {\n",
       "        vertical-align: top;\n",
       "    }\n",
       "\n",
       "    .dataframe thead th {\n",
       "        text-align: right;\n",
       "    }\n",
       "</style>\n",
       "<table border=\"1\" class=\"dataframe\">\n",
       "  <thead>\n",
       "    <tr style=\"text-align: right;\">\n",
       "      <th></th>\n",
       "      <th>id</th>\n",
       "      <th>date</th>\n",
       "      <th>store_nbr</th>\n",
       "      <th>item_nbr</th>\n",
       "      <th>unit_sales</th>\n",
       "      <th>onpromotion</th>\n",
       "    </tr>\n",
       "  </thead>\n",
       "  <tbody>\n",
       "    <tr>\n",
       "      <th>0</th>\n",
       "      <td>30787</td>\n",
       "      <td>2013-01-02</td>\n",
       "      <td>41</td>\n",
       "      <td>105574</td>\n",
       "      <td>2.0</td>\n",
       "      <td>NaN</td>\n",
       "    </tr>\n",
       "    <tr>\n",
       "      <th>1</th>\n",
       "      <td>30788</td>\n",
       "      <td>2013-01-02</td>\n",
       "      <td>41</td>\n",
       "      <td>105575</td>\n",
       "      <td>9.0</td>\n",
       "      <td>NaN</td>\n",
       "    </tr>\n",
       "    <tr>\n",
       "      <th>2</th>\n",
       "      <td>30789</td>\n",
       "      <td>2013-01-02</td>\n",
       "      <td>41</td>\n",
       "      <td>105577</td>\n",
       "      <td>18.0</td>\n",
       "      <td>NaN</td>\n",
       "    </tr>\n",
       "  </tbody>\n",
       "</table>\n",
       "</div>"
      ],
      "text/plain": [
       "      id        date  store_nbr  item_nbr  unit_sales  onpromotion\n",
       "0  30787  2013-01-02         41    105574         2.0          NaN\n",
       "1  30788  2013-01-02         41    105575         9.0          NaN\n",
       "2  30789  2013-01-02         41    105577        18.0          NaN"
      ]
     },
     "execution_count": 47,
     "metadata": {},
     "output_type": "execute_result"
    }
   ],
   "source": [
    "# 看一下 data\n",
    "train_41_2013.head(3)"
   ]
  },
  {
   "cell_type": "code",
   "execution_count": 48,
   "metadata": {
    "colab": {
     "base_uri": "https://localhost:8080/",
     "height": 139
    },
    "colab_type": "code",
    "executionInfo": {
     "elapsed": 455,
     "status": "ok",
     "timestamp": 1557024979693,
     "user": {
      "displayName": "Po-Ying Fu",
      "photoUrl": "https://lh5.googleusercontent.com/-Ky_-P6jfDNs/AAAAAAAAAAI/AAAAAAAA0qY/HLawVg89qNo/s64/photo.jpg",
      "userId": "09435303200733751587"
     },
     "user_tz": -480
    },
    "id": "JwFTcuI5lQf3",
    "outputId": "844856f0-4e86-48d3-d093-211c4bf7a886"
   },
   "outputs": [
    {
     "data": {
      "text/plain": [
       "id               int64\n",
       "date            object\n",
       "store_nbr        int64\n",
       "item_nbr         int64\n",
       "unit_sales     float64\n",
       "onpromotion    float64\n",
       "dtype: object"
      ]
     },
     "execution_count": 48,
     "metadata": {},
     "output_type": "execute_result"
    }
   ],
   "source": [
    "# 看各欄位的 data types\n",
    "train_41_2013.dtypes"
   ]
  },
  {
   "cell_type": "markdown",
   "metadata": {
    "colab_type": "text",
    "id": "5FfpbqOELbNz"
   },
   "source": [
    "![dataTypes](https://pbpython.com/images/pandas_dtypes.png)"
   ]
  },
  {
   "cell_type": "markdown",
   "metadata": {
    "colab_type": "text",
    "id": "K9bY8Hg9STxe"
   },
   "source": [
    "# 修正資料型別"
   ]
  },
  {
   "cell_type": "markdown",
   "metadata": {
    "colab_type": "text",
    "id": "aom9PtGbM7zt"
   },
   "source": [
    "## df['column'].astype() - 改變欄位的 data types （Python type）\n",
    "\n",
    "[Pandas - astype() 官方文件](https://pandas.pydata.org/pandas-docs/stable/reference/api/pandas.DataFrame.astype.html)"
   ]
  },
  {
   "cell_type": "code",
   "execution_count": 49,
   "metadata": {
    "colab": {
     "base_uri": "https://localhost:8080/",
     "height": 141
    },
    "colab_type": "code",
    "executionInfo": {
     "elapsed": 728,
     "status": "ok",
     "timestamp": 1557034590433,
     "user": {
      "displayName": "Po-Ying Fu",
      "photoUrl": "https://lh5.googleusercontent.com/-Ky_-P6jfDNs/AAAAAAAAAAI/AAAAAAAA0qY/HLawVg89qNo/s64/photo.jpg",
      "userId": "09435303200733751587"
     },
     "user_tz": -480
    },
    "id": "hUKR8UuFJFfc",
    "outputId": "6f37883a-fa6f-4d12-edbf-dfc574b1a332"
   },
   "outputs": [
    {
     "data": {
      "text/html": [
       "<div>\n",
       "<style scoped>\n",
       "    .dataframe tbody tr th:only-of-type {\n",
       "        vertical-align: middle;\n",
       "    }\n",
       "\n",
       "    .dataframe tbody tr th {\n",
       "        vertical-align: top;\n",
       "    }\n",
       "\n",
       "    .dataframe thead th {\n",
       "        text-align: right;\n",
       "    }\n",
       "</style>\n",
       "<table border=\"1\" class=\"dataframe\">\n",
       "  <thead>\n",
       "    <tr style=\"text-align: right;\">\n",
       "      <th></th>\n",
       "      <th>id</th>\n",
       "      <th>date</th>\n",
       "      <th>store_nbr</th>\n",
       "      <th>item_nbr</th>\n",
       "      <th>unit_sales</th>\n",
       "      <th>onpromotion</th>\n",
       "    </tr>\n",
       "  </thead>\n",
       "  <tbody>\n",
       "    <tr>\n",
       "      <th>0</th>\n",
       "      <td>30787</td>\n",
       "      <td>2013-01-02</td>\n",
       "      <td>41</td>\n",
       "      <td>105574</td>\n",
       "      <td>2.0</td>\n",
       "      <td>NaN</td>\n",
       "    </tr>\n",
       "    <tr>\n",
       "      <th>1</th>\n",
       "      <td>30788</td>\n",
       "      <td>2013-01-02</td>\n",
       "      <td>41</td>\n",
       "      <td>105575</td>\n",
       "      <td>9.0</td>\n",
       "      <td>NaN</td>\n",
       "    </tr>\n",
       "    <tr>\n",
       "      <th>2</th>\n",
       "      <td>30789</td>\n",
       "      <td>2013-01-02</td>\n",
       "      <td>41</td>\n",
       "      <td>105577</td>\n",
       "      <td>18.0</td>\n",
       "      <td>NaN</td>\n",
       "    </tr>\n",
       "  </tbody>\n",
       "</table>\n",
       "</div>"
      ],
      "text/plain": [
       "      id        date  store_nbr  item_nbr  unit_sales  onpromotion\n",
       "0  30787  2013-01-02         41    105574         2.0          NaN\n",
       "1  30788  2013-01-02         41    105575         9.0          NaN\n",
       "2  30789  2013-01-02         41    105577        18.0          NaN"
      ]
     },
     "execution_count": 49,
     "metadata": {},
     "output_type": "execute_result"
    }
   ],
   "source": [
    "# 看一下 data\n",
    "train_41_2013.head(3)"
   ]
  },
  {
   "cell_type": "code",
   "execution_count": 50,
   "metadata": {
    "colab": {
     "base_uri": "https://localhost:8080/",
     "height": 139
    },
    "colab_type": "code",
    "executionInfo": {
     "elapsed": 1400,
     "status": "ok",
     "timestamp": 1557034596179,
     "user": {
      "displayName": "Po-Ying Fu",
      "photoUrl": "https://lh5.googleusercontent.com/-Ky_-P6jfDNs/AAAAAAAAAAI/AAAAAAAA0qY/HLawVg89qNo/s64/photo.jpg",
      "userId": "09435303200733751587"
     },
     "user_tz": -480
    },
    "id": "Nhq7cP4BWQMO",
    "outputId": "bf9fc6b2-92d4-4f48-c6b1-250d23f5e50a"
   },
   "outputs": [
    {
     "data": {
      "text/plain": [
       "id              object\n",
       "date            object\n",
       "store_nbr       object\n",
       "item_nbr        object\n",
       "unit_sales     float64\n",
       "onpromotion    float64\n",
       "dtype: object"
      ]
     },
     "execution_count": 50,
     "metadata": {},
     "output_type": "execute_result"
    }
   ],
   "source": [
    "# 改變特定欄位的 data types: \n",
    "# 1. 將「數值型流水編號」轉為「類別型文字」：\n",
    "train_41_2013[\"id\"] = train_41_2013['id'].astype('str')\n",
    "train_41_2013[\"store_nbr\"] = train_41_2013['store_nbr'].astype('str')\n",
    "train_41_2013[\"item_nbr\"] = train_41_2013['item_nbr'].astype('str')\n",
    "\n",
    "train_41_2013.dtypes"
   ]
  },
  {
   "cell_type": "markdown",
   "metadata": {
    "colab_type": "text",
    "id": "cfhp8tP4RnnY"
   },
   "source": [
    "## pd.to_datetime() - 日期文字轉日期\n",
    "\n",
    "[Pandas - to_datetime() 官方文件](https://pandas.pydata.org/pandas-docs/stable/reference/api/pandas.to_datetime.html)"
   ]
  },
  {
   "cell_type": "code",
   "execution_count": 51,
   "metadata": {
    "colab": {
     "base_uri": "https://localhost:8080/",
     "height": 141
    },
    "colab_type": "code",
    "executionInfo": {
     "elapsed": 747,
     "status": "ok",
     "timestamp": 1557034599415,
     "user": {
      "displayName": "Po-Ying Fu",
      "photoUrl": "https://lh5.googleusercontent.com/-Ky_-P6jfDNs/AAAAAAAAAAI/AAAAAAAA0qY/HLawVg89qNo/s64/photo.jpg",
      "userId": "09435303200733751587"
     },
     "user_tz": -480
    },
    "id": "KCrYhQ0tJH0W",
    "outputId": "027d435e-1674-4ca6-e94a-a57795ff079c"
   },
   "outputs": [
    {
     "data": {
      "text/html": [
       "<div>\n",
       "<style scoped>\n",
       "    .dataframe tbody tr th:only-of-type {\n",
       "        vertical-align: middle;\n",
       "    }\n",
       "\n",
       "    .dataframe tbody tr th {\n",
       "        vertical-align: top;\n",
       "    }\n",
       "\n",
       "    .dataframe thead th {\n",
       "        text-align: right;\n",
       "    }\n",
       "</style>\n",
       "<table border=\"1\" class=\"dataframe\">\n",
       "  <thead>\n",
       "    <tr style=\"text-align: right;\">\n",
       "      <th></th>\n",
       "      <th>id</th>\n",
       "      <th>date</th>\n",
       "      <th>store_nbr</th>\n",
       "      <th>item_nbr</th>\n",
       "      <th>unit_sales</th>\n",
       "      <th>onpromotion</th>\n",
       "    </tr>\n",
       "  </thead>\n",
       "  <tbody>\n",
       "    <tr>\n",
       "      <th>0</th>\n",
       "      <td>30787</td>\n",
       "      <td>2013-01-02</td>\n",
       "      <td>41</td>\n",
       "      <td>105574</td>\n",
       "      <td>2.0</td>\n",
       "      <td>NaN</td>\n",
       "    </tr>\n",
       "    <tr>\n",
       "      <th>1</th>\n",
       "      <td>30788</td>\n",
       "      <td>2013-01-02</td>\n",
       "      <td>41</td>\n",
       "      <td>105575</td>\n",
       "      <td>9.0</td>\n",
       "      <td>NaN</td>\n",
       "    </tr>\n",
       "    <tr>\n",
       "      <th>2</th>\n",
       "      <td>30789</td>\n",
       "      <td>2013-01-02</td>\n",
       "      <td>41</td>\n",
       "      <td>105577</td>\n",
       "      <td>18.0</td>\n",
       "      <td>NaN</td>\n",
       "    </tr>\n",
       "  </tbody>\n",
       "</table>\n",
       "</div>"
      ],
      "text/plain": [
       "      id        date store_nbr item_nbr  unit_sales  onpromotion\n",
       "0  30787  2013-01-02        41   105574         2.0          NaN\n",
       "1  30788  2013-01-02        41   105575         9.0          NaN\n",
       "2  30789  2013-01-02        41   105577        18.0          NaN"
      ]
     },
     "execution_count": 51,
     "metadata": {},
     "output_type": "execute_result"
    }
   ],
   "source": [
    "# 看一下 data\n",
    "train_41_2013.head(3)"
   ]
  },
  {
   "cell_type": "code",
   "execution_count": 52,
   "metadata": {
    "colab": {
     "base_uri": "https://localhost:8080/",
     "height": 139
    },
    "colab_type": "code",
    "executionInfo": {
     "elapsed": 1089,
     "status": "ok",
     "timestamp": 1557034603098,
     "user": {
      "displayName": "Po-Ying Fu",
      "photoUrl": "https://lh5.googleusercontent.com/-Ky_-P6jfDNs/AAAAAAAAAAI/AAAAAAAA0qY/HLawVg89qNo/s64/photo.jpg",
      "userId": "09435303200733751587"
     },
     "user_tz": -480
    },
    "id": "IVU9EVm-RMYg",
    "outputId": "6fb336a4-f383-436b-9c7e-d119c1b7a864"
   },
   "outputs": [
    {
     "data": {
      "text/plain": [
       "id                     object\n",
       "date           datetime64[ns]\n",
       "store_nbr              object\n",
       "item_nbr               object\n",
       "unit_sales            float64\n",
       "onpromotion           float64\n",
       "dtype: object"
      ]
     },
     "execution_count": 52,
     "metadata": {},
     "output_type": "execute_result"
    }
   ],
   "source": [
    "# 2. 將「文字型日期」轉為「日期格式」：\n",
    "train_41_2013[\"date\"] = pd.to_datetime(train_41_2013['date'])\n",
    "\n",
    "train_41_2013.dtypes"
   ]
  },
  {
   "cell_type": "markdown",
   "metadata": {
    "colab_type": "text",
    "id": "_kB5fmXDRsct"
   },
   "source": [
    "## df.fillna() - 填滿空值/遺失值\n",
    "\n",
    "[Pandas - fillna() 官方文件](https://pandas.pydata.org/pandas-docs/stable/reference/api/pandas.DataFrame.fillna.html)"
   ]
  },
  {
   "cell_type": "code",
   "execution_count": 53,
   "metadata": {
    "colab": {
     "base_uri": "https://localhost:8080/",
     "height": 141
    },
    "colab_type": "code",
    "executionInfo": {
     "elapsed": 732,
     "status": "ok",
     "timestamp": 1557024999285,
     "user": {
      "displayName": "Po-Ying Fu",
      "photoUrl": "https://lh5.googleusercontent.com/-Ky_-P6jfDNs/AAAAAAAAAAI/AAAAAAAA0qY/HLawVg89qNo/s64/photo.jpg",
      "userId": "09435303200733751587"
     },
     "user_tz": -480
    },
    "id": "_hjclRmBJIlm",
    "outputId": "ca74acba-d471-4a11-f9ae-0f6e2ec1299b"
   },
   "outputs": [
    {
     "data": {
      "text/html": [
       "<div>\n",
       "<style scoped>\n",
       "    .dataframe tbody tr th:only-of-type {\n",
       "        vertical-align: middle;\n",
       "    }\n",
       "\n",
       "    .dataframe tbody tr th {\n",
       "        vertical-align: top;\n",
       "    }\n",
       "\n",
       "    .dataframe thead th {\n",
       "        text-align: right;\n",
       "    }\n",
       "</style>\n",
       "<table border=\"1\" class=\"dataframe\">\n",
       "  <thead>\n",
       "    <tr style=\"text-align: right;\">\n",
       "      <th></th>\n",
       "      <th>id</th>\n",
       "      <th>date</th>\n",
       "      <th>store_nbr</th>\n",
       "      <th>item_nbr</th>\n",
       "      <th>unit_sales</th>\n",
       "      <th>onpromotion</th>\n",
       "    </tr>\n",
       "  </thead>\n",
       "  <tbody>\n",
       "    <tr>\n",
       "      <th>0</th>\n",
       "      <td>30787</td>\n",
       "      <td>2013-01-02</td>\n",
       "      <td>41</td>\n",
       "      <td>105574</td>\n",
       "      <td>2.0</td>\n",
       "      <td>NaN</td>\n",
       "    </tr>\n",
       "    <tr>\n",
       "      <th>1</th>\n",
       "      <td>30788</td>\n",
       "      <td>2013-01-02</td>\n",
       "      <td>41</td>\n",
       "      <td>105575</td>\n",
       "      <td>9.0</td>\n",
       "      <td>NaN</td>\n",
       "    </tr>\n",
       "    <tr>\n",
       "      <th>2</th>\n",
       "      <td>30789</td>\n",
       "      <td>2013-01-02</td>\n",
       "      <td>41</td>\n",
       "      <td>105577</td>\n",
       "      <td>18.0</td>\n",
       "      <td>NaN</td>\n",
       "    </tr>\n",
       "  </tbody>\n",
       "</table>\n",
       "</div>"
      ],
      "text/plain": [
       "      id       date store_nbr item_nbr  unit_sales  onpromotion\n",
       "0  30787 2013-01-02        41   105574         2.0          NaN\n",
       "1  30788 2013-01-02        41   105575         9.0          NaN\n",
       "2  30789 2013-01-02        41   105577        18.0          NaN"
      ]
     },
     "execution_count": 53,
     "metadata": {},
     "output_type": "execute_result"
    }
   ],
   "source": [
    "# 處理前先看一下 data\n",
    "train_41_2013.head(3)"
   ]
  },
  {
   "cell_type": "code",
   "execution_count": 54,
   "metadata": {
    "colab": {
     "base_uri": "https://localhost:8080/",
     "height": 139
    },
    "colab_type": "code",
    "executionInfo": {
     "elapsed": 793,
     "status": "ok",
     "timestamp": 1557025000720,
     "user": {
      "displayName": "Po-Ying Fu",
      "photoUrl": "https://lh5.googleusercontent.com/-Ky_-P6jfDNs/AAAAAAAAAAI/AAAAAAAA0qY/HLawVg89qNo/s64/photo.jpg",
      "userId": "09435303200733751587"
     },
     "user_tz": -480
    },
    "id": "3L2yswh96dQa",
    "outputId": "b1379dc9-767f-4e11-b5ad-b69245317820"
   },
   "outputs": [
    {
     "data": {
      "text/plain": [
       "id                     object\n",
       "date           datetime64[ns]\n",
       "store_nbr              object\n",
       "item_nbr               object\n",
       "unit_sales            float64\n",
       "onpromotion           float64\n",
       "dtype: object"
      ]
     },
     "execution_count": 54,
     "metadata": {},
     "output_type": "execute_result"
    }
   ],
   "source": [
    "# 處理前先確認一下資料型別\n",
    "train_41_2013.dtypes"
   ]
  },
  {
   "cell_type": "markdown",
   "metadata": {
    "colab_type": "text",
    "id": "RCuQMOa17FoI"
   },
   "source": [
    "--> `onpromotion           float64`\n",
    "\n",
    "此時 onpromotion 仍是錯誤的 float64"
   ]
  },
  {
   "cell_type": "code",
   "execution_count": 55,
   "metadata": {
    "colab": {
     "base_uri": "https://localhost:8080/",
     "height": 141
    },
    "colab_type": "code",
    "executionInfo": {
     "elapsed": 728,
     "status": "ok",
     "timestamp": 1557034612738,
     "user": {
      "displayName": "Po-Ying Fu",
      "photoUrl": "https://lh5.googleusercontent.com/-Ky_-P6jfDNs/AAAAAAAAAAI/AAAAAAAA0qY/HLawVg89qNo/s64/photo.jpg",
      "userId": "09435303200733751587"
     },
     "user_tz": -480
    },
    "id": "icd6tCg8RuKd",
    "outputId": "743a0d1a-a377-4704-aba4-af39186ad19c"
   },
   "outputs": [
    {
     "data": {
      "text/html": [
       "<div>\n",
       "<style scoped>\n",
       "    .dataframe tbody tr th:only-of-type {\n",
       "        vertical-align: middle;\n",
       "    }\n",
       "\n",
       "    .dataframe tbody tr th {\n",
       "        vertical-align: top;\n",
       "    }\n",
       "\n",
       "    .dataframe thead th {\n",
       "        text-align: right;\n",
       "    }\n",
       "</style>\n",
       "<table border=\"1\" class=\"dataframe\">\n",
       "  <thead>\n",
       "    <tr style=\"text-align: right;\">\n",
       "      <th></th>\n",
       "      <th>id</th>\n",
       "      <th>date</th>\n",
       "      <th>store_nbr</th>\n",
       "      <th>item_nbr</th>\n",
       "      <th>unit_sales</th>\n",
       "      <th>onpromotion</th>\n",
       "    </tr>\n",
       "  </thead>\n",
       "  <tbody>\n",
       "    <tr>\n",
       "      <th>0</th>\n",
       "      <td>30787</td>\n",
       "      <td>2013-01-02</td>\n",
       "      <td>41</td>\n",
       "      <td>105574</td>\n",
       "      <td>2.0</td>\n",
       "      <td>False</td>\n",
       "    </tr>\n",
       "    <tr>\n",
       "      <th>1</th>\n",
       "      <td>30788</td>\n",
       "      <td>2013-01-02</td>\n",
       "      <td>41</td>\n",
       "      <td>105575</td>\n",
       "      <td>9.0</td>\n",
       "      <td>False</td>\n",
       "    </tr>\n",
       "    <tr>\n",
       "      <th>2</th>\n",
       "      <td>30789</td>\n",
       "      <td>2013-01-02</td>\n",
       "      <td>41</td>\n",
       "      <td>105577</td>\n",
       "      <td>18.0</td>\n",
       "      <td>False</td>\n",
       "    </tr>\n",
       "  </tbody>\n",
       "</table>\n",
       "</div>"
      ],
      "text/plain": [
       "      id       date store_nbr item_nbr  unit_sales  onpromotion\n",
       "0  30787 2013-01-02        41   105574         2.0        False\n",
       "1  30788 2013-01-02        41   105575         9.0        False\n",
       "2  30789 2013-01-02        41   105577        18.0        False"
      ]
     },
     "execution_count": 55,
     "metadata": {},
     "output_type": "execute_result"
    }
   ],
   "source": [
    "# 3. 填滿空值：\n",
    "train_41_2013['onpromotion'] = train_41_2013['onpromotion'].fillna(False)\n",
    "\n",
    "# 處理後再看一下 data\n",
    "train_41_2013.head(3)"
   ]
  },
  {
   "cell_type": "code",
   "execution_count": 56,
   "metadata": {
    "colab": {
     "base_uri": "https://localhost:8080/",
     "height": 139
    },
    "colab_type": "code",
    "executionInfo": {
     "elapsed": 669,
     "status": "ok",
     "timestamp": 1557034614883,
     "user": {
      "displayName": "Po-Ying Fu",
      "photoUrl": "https://lh5.googleusercontent.com/-Ky_-P6jfDNs/AAAAAAAAAAI/AAAAAAAA0qY/HLawVg89qNo/s64/photo.jpg",
      "userId": "09435303200733751587"
     },
     "user_tz": -480
    },
    "id": "j-KwN6np5sZ6",
    "outputId": "fa8d063a-bd45-4735-9d31-138bf3f72909"
   },
   "outputs": [
    {
     "data": {
      "text/plain": [
       "id                     object\n",
       "date           datetime64[ns]\n",
       "store_nbr              object\n",
       "item_nbr               object\n",
       "unit_sales            float64\n",
       "onpromotion              bool\n",
       "dtype: object"
      ]
     },
     "execution_count": 56,
     "metadata": {},
     "output_type": "execute_result"
    }
   ],
   "source": [
    "# 處理後再確認一下資料型別\n",
    "train_41_2013.dtypes"
   ]
  },
  {
   "cell_type": "markdown",
   "metadata": {
    "colab_type": "text",
    "id": "UZ55TUsC7eUE"
   },
   "source": [
    "--> `onpromotion              bool`\n",
    "\n",
    "已經轉成正確的 bool 型別!"
   ]
  },
  {
   "cell_type": "markdown",
   "metadata": {
    "colab_type": "text",
    "id": "jpOQUBB7SFMH"
   },
   "source": [
    "---\n",
    "\n",
    "# 資料分佈：\n",
    "\n",
    "確認資料的分布找出 outliers"
   ]
  },
  {
   "cell_type": "markdown",
   "metadata": {
    "colab_type": "text",
    "id": "fkhhUN1xUEeD"
   },
   "source": [
    "## 1. 數值型變數\n",
    "\n",
    "應該只剩 unit_sales 是數值型!"
   ]
  },
  {
   "cell_type": "code",
   "execution_count": 57,
   "metadata": {
    "colab": {
     "base_uri": "https://localhost:8080/",
     "height": 294
    },
    "colab_type": "code",
    "executionInfo": {
     "elapsed": 998,
     "status": "ok",
     "timestamp": 1557025247540,
     "user": {
      "displayName": "Po-Ying Fu",
      "photoUrl": "https://lh5.googleusercontent.com/-Ky_-P6jfDNs/AAAAAAAAAAI/AAAAAAAA0qY/HLawVg89qNo/s64/photo.jpg",
      "userId": "09435303200733751587"
     },
     "user_tz": -480
    },
    "id": "WUTg9mANnX10",
    "outputId": "2e23bc1c-4b68-45a8-c415-c7b9795a20de"
   },
   "outputs": [
    {
     "data": {
      "text/html": [
       "<div>\n",
       "<style scoped>\n",
       "    .dataframe tbody tr th:only-of-type {\n",
       "        vertical-align: middle;\n",
       "    }\n",
       "\n",
       "    .dataframe tbody tr th {\n",
       "        vertical-align: top;\n",
       "    }\n",
       "\n",
       "    .dataframe thead th {\n",
       "        text-align: right;\n",
       "    }\n",
       "</style>\n",
       "<table border=\"1\" class=\"dataframe\">\n",
       "  <thead>\n",
       "    <tr style=\"text-align: right;\">\n",
       "      <th></th>\n",
       "      <th>unit_sales</th>\n",
       "    </tr>\n",
       "  </thead>\n",
       "  <tbody>\n",
       "    <tr>\n",
       "      <th>count</th>\n",
       "      <td>336828.000000</td>\n",
       "    </tr>\n",
       "    <tr>\n",
       "      <th>mean</th>\n",
       "      <td>5.110739</td>\n",
       "    </tr>\n",
       "    <tr>\n",
       "      <th>std</th>\n",
       "      <td>12.810942</td>\n",
       "    </tr>\n",
       "    <tr>\n",
       "      <th>min</th>\n",
       "      <td>-27.000000</td>\n",
       "    </tr>\n",
       "    <tr>\n",
       "      <th>25%</th>\n",
       "      <td>1.754000</td>\n",
       "    </tr>\n",
       "    <tr>\n",
       "      <th>50%</th>\n",
       "      <td>3.000000</td>\n",
       "    </tr>\n",
       "    <tr>\n",
       "      <th>75%</th>\n",
       "      <td>6.000000</td>\n",
       "    </tr>\n",
       "    <tr>\n",
       "      <th>max</th>\n",
       "      <td>4236.000000</td>\n",
       "    </tr>\n",
       "  </tbody>\n",
       "</table>\n",
       "</div>"
      ],
      "text/plain": [
       "          unit_sales\n",
       "count  336828.000000\n",
       "mean        5.110739\n",
       "std        12.810942\n",
       "min       -27.000000\n",
       "25%         1.754000\n",
       "50%         3.000000\n",
       "75%         6.000000\n",
       "max      4236.000000"
      ]
     },
     "execution_count": 57,
     "metadata": {},
     "output_type": "execute_result"
    }
   ],
   "source": [
    "train_41_2013.describe()"
   ]
  },
  {
   "cell_type": "markdown",
   "metadata": {
    "colab_type": "text",
    "id": "6ycbi7QP7_FL"
   },
   "source": [
    "--> `min\t-27.000000`\n",
    "\n",
    "最小值 -27, 可以知道資料有負值...負值代表什麼意思? 是否是錯誤?\n"
   ]
  },
  {
   "cell_type": "markdown",
   "metadata": {
    "colab_type": "text",
    "id": "HJR0ZXKA9TMq"
   },
   "source": [
    "### 視覺化資料分布: 使用 histogram\n",
    "\n",
    "[Pandas - df.plot.hist() 文件](https://pandas.pydata.org/pandas-docs/version/0.23/generated/pandas.DataFrame.plot.hist.html)"
   ]
  },
  {
   "cell_type": "code",
   "execution_count": 58,
   "metadata": {
    "colab": {
     "base_uri": "https://localhost:8080/",
     "height": 416
    },
    "colab_type": "code",
    "executionInfo": {
     "elapsed": 2132,
     "status": "ok",
     "timestamp": 1557025766575,
     "user": {
      "displayName": "Po-Ying Fu",
      "photoUrl": "https://lh5.googleusercontent.com/-Ky_-P6jfDNs/AAAAAAAAAAI/AAAAAAAA0qY/HLawVg89qNo/s64/photo.jpg",
      "userId": "09435303200733751587"
     },
     "user_tz": -480
    },
    "id": "kREOFJmkWAKj",
    "outputId": "62f7900e-addd-4bd9-d236-9ed9006a1d52"
   },
   "outputs": [
    {
     "data": {
      "text/plain": [
       "<matplotlib.axes._subplots.AxesSubplot at 0x139ae5d0>"
      ]
     },
     "execution_count": 58,
     "metadata": {},
     "output_type": "execute_result"
    }
   ],
   "source": [
    "# 視覺化資料分布: 使用 histogram \n",
    "train_41_2013['unit_sales'].plot.hist(bins=300, figsize=(16,6)) # bins: Number of histogram bins to be used"
   ]
  },
  {
   "cell_type": "markdown",
   "metadata": {
    "colab_type": "text",
    "id": "jYsTcHFv9_4x"
   },
   "source": [
    "### 視覺化資料分布: 使用 box plot\n",
    "\n",
    "[Pandas - df.plot.box 文件](https://pandas.pydata.org/pandas-docs/stable/reference/api/pandas.DataFrame.plot.box.html)"
   ]
  },
  {
   "cell_type": "code",
   "execution_count": 59,
   "metadata": {
    "colab": {
     "base_uri": "https://localhost:8080/",
     "height": 416
    },
    "colab_type": "code",
    "executionInfo": {
     "elapsed": 929,
     "status": "ok",
     "timestamp": 1557026295898,
     "user": {
      "displayName": "Po-Ying Fu",
      "photoUrl": "https://lh5.googleusercontent.com/-Ky_-P6jfDNs/AAAAAAAAAAI/AAAAAAAA0qY/HLawVg89qNo/s64/photo.jpg",
      "userId": "09435303200733751587"
     },
     "user_tz": -480
    },
    "id": "7NmQJWsHnbWl",
    "outputId": "317a47c1-77ef-45b3-b480-629a4ba665e9"
   },
   "outputs": [
    {
     "data": {
      "text/plain": [
       "<matplotlib.axes._subplots.AxesSubplot at 0x14148c50>"
      ]
     },
     "execution_count": 59,
     "metadata": {},
     "output_type": "execute_result"
    },
    {
     "data": {
      "image/png": "[encoded data removed]",
      "text/plain": [
       "<Figure size 1152x432 with 1 Axes>"
      ]
     },
     "metadata": {
      "needs_background": "light"
     },
     "output_type": "display_data"
    }
   ],
   "source": [
    "train_41_2013['unit_sales'].plot.box(figsize=(16,6))"
   ]
  },
  {
   "cell_type": "markdown",
   "metadata": {
    "colab_type": "text",
    "id": "qLeHKTUgWqGM"
   },
   "source": [
    "## 類別型變數\n",
    "\n",
    "### 檢查重複：使用 Groupby\n",
    "\n",
    "**column - item_nbr**"
   ]
  },
  {
   "cell_type": "code",
   "execution_count": 60,
   "metadata": {
    "colab": {
     "base_uri": "https://localhost:8080/",
     "height": 141
    },
    "colab_type": "code",
    "executionInfo": {
     "elapsed": 862,
     "status": "ok",
     "timestamp": 1557026323098,
     "user": {
      "displayName": "Po-Ying Fu",
      "photoUrl": "https://lh5.googleusercontent.com/-Ky_-P6jfDNs/AAAAAAAAAAI/AAAAAAAA0qY/HLawVg89qNo/s64/photo.jpg",
      "userId": "09435303200733751587"
     },
     "user_tz": -480
    },
    "id": "1Icnl6BDJNYD",
    "outputId": "a9be06a4-dc22-4c57-f657-27cf1151d116"
   },
   "outputs": [
    {
     "data": {
      "text/html": [
       "<div>\n",
       "<style scoped>\n",
       "    .dataframe tbody tr th:only-of-type {\n",
       "        vertical-align: middle;\n",
       "    }\n",
       "\n",
       "    .dataframe tbody tr th {\n",
       "        vertical-align: top;\n",
       "    }\n",
       "\n",
       "    .dataframe thead th {\n",
       "        text-align: right;\n",
       "    }\n",
       "</style>\n",
       "<table border=\"1\" class=\"dataframe\">\n",
       "  <thead>\n",
       "    <tr style=\"text-align: right;\">\n",
       "      <th></th>\n",
       "      <th>id</th>\n",
       "      <th>date</th>\n",
       "      <th>store_nbr</th>\n",
       "      <th>item_nbr</th>\n",
       "      <th>unit_sales</th>\n",
       "      <th>onpromotion</th>\n",
       "    </tr>\n",
       "  </thead>\n",
       "  <tbody>\n",
       "    <tr>\n",
       "      <th>0</th>\n",
       "      <td>30787</td>\n",
       "      <td>2013-01-02</td>\n",
       "      <td>41</td>\n",
       "      <td>105574</td>\n",
       "      <td>2.0</td>\n",
       "      <td>False</td>\n",
       "    </tr>\n",
       "    <tr>\n",
       "      <th>1</th>\n",
       "      <td>30788</td>\n",
       "      <td>2013-01-02</td>\n",
       "      <td>41</td>\n",
       "      <td>105575</td>\n",
       "      <td>9.0</td>\n",
       "      <td>False</td>\n",
       "    </tr>\n",
       "    <tr>\n",
       "      <th>2</th>\n",
       "      <td>30789</td>\n",
       "      <td>2013-01-02</td>\n",
       "      <td>41</td>\n",
       "      <td>105577</td>\n",
       "      <td>18.0</td>\n",
       "      <td>False</td>\n",
       "    </tr>\n",
       "  </tbody>\n",
       "</table>\n",
       "</div>"
      ],
      "text/plain": [
       "      id       date store_nbr item_nbr  unit_sales  onpromotion\n",
       "0  30787 2013-01-02        41   105574         2.0        False\n",
       "1  30788 2013-01-02        41   105575         9.0        False\n",
       "2  30789 2013-01-02        41   105577        18.0        False"
      ]
     },
     "execution_count": 60,
     "metadata": {},
     "output_type": "execute_result"
    }
   ],
   "source": [
    "train_41_2013.head(3)"
   ]
  },
  {
   "cell_type": "code",
   "execution_count": 61,
   "metadata": {
    "colab": {
     "base_uri": "https://localhost:8080/",
     "height": 202
    },
    "colab_type": "code",
    "executionInfo": {
     "elapsed": 828,
     "status": "ok",
     "timestamp": 1557034660335,
     "user": {
      "displayName": "Po-Ying Fu",
      "photoUrl": "https://lh5.googleusercontent.com/-Ky_-P6jfDNs/AAAAAAAAAAI/AAAAAAAA0qY/HLawVg89qNo/s64/photo.jpg",
      "userId": "09435303200733751587"
     },
     "user_tz": -480
    },
    "id": "GHzhyDpIXqDt",
    "outputId": "e32f499c-172a-4325-e863-7f49c9d0a027"
   },
   "outputs": [
    {
     "data": {
      "text/html": [
       "<div>\n",
       "<style scoped>\n",
       "    .dataframe tbody tr th:only-of-type {\n",
       "        vertical-align: middle;\n",
       "    }\n",
       "\n",
       "    .dataframe tbody tr th {\n",
       "        vertical-align: top;\n",
       "    }\n",
       "\n",
       "    .dataframe thead th {\n",
       "        text-align: right;\n",
       "    }\n",
       "</style>\n",
       "<table border=\"1\" class=\"dataframe\">\n",
       "  <thead>\n",
       "    <tr style=\"text-align: right;\">\n",
       "      <th></th>\n",
       "      <th>item_nbr</th>\n",
       "      <th>0</th>\n",
       "    </tr>\n",
       "  </thead>\n",
       "  <tbody>\n",
       "    <tr>\n",
       "      <th>0</th>\n",
       "      <td>1000866</td>\n",
       "      <td>6</td>\n",
       "    </tr>\n",
       "    <tr>\n",
       "      <th>1</th>\n",
       "      <td>1001305</td>\n",
       "      <td>284</td>\n",
       "    </tr>\n",
       "    <tr>\n",
       "      <th>2</th>\n",
       "      <td>1003679</td>\n",
       "      <td>268</td>\n",
       "    </tr>\n",
       "    <tr>\n",
       "      <th>3</th>\n",
       "      <td>1004545</td>\n",
       "      <td>48</td>\n",
       "    </tr>\n",
       "    <tr>\n",
       "      <th>4</th>\n",
       "      <td>1004550</td>\n",
       "      <td>297</td>\n",
       "    </tr>\n",
       "  </tbody>\n",
       "</table>\n",
       "</div>"
      ],
      "text/plain": [
       "  item_nbr    0\n",
       "0  1000866    6\n",
       "1  1001305  284\n",
       "2  1003679  268\n",
       "3  1004545   48\n",
       "4  1004550  297"
      ]
     },
     "execution_count": 61,
     "metadata": {},
     "output_type": "execute_result"
    }
   ],
   "source": [
    "# Groupby 特定欄位 & 計數相同的個數 + 重設引索\n",
    "train_41_2013_itemNBR = train_41_2013.groupby(['item_nbr']).size().reset_index()\n",
    "train_41_2013_itemNBR.head()"
   ]
  },
  {
   "cell_type": "code",
   "execution_count": 62,
   "metadata": {
    "colab": {
     "base_uri": "https://localhost:8080/",
     "height": 202
    },
    "colab_type": "code",
    "executionInfo": {
     "elapsed": 771,
     "status": "ok",
     "timestamp": 1557034663921,
     "user": {
      "displayName": "Po-Ying Fu",
      "photoUrl": "https://lh5.googleusercontent.com/-Ky_-P6jfDNs/AAAAAAAAAAI/AAAAAAAA0qY/HLawVg89qNo/s64/photo.jpg",
      "userId": "09435303200733751587"
     },
     "user_tz": -480
    },
    "id": "khyEI0KgYRMt",
    "outputId": "bfbf7308-96e8-417d-b77b-b0a3ae212314"
   },
   "outputs": [
    {
     "data": {
      "text/html": [
       "<div>\n",
       "<style scoped>\n",
       "    .dataframe tbody tr th:only-of-type {\n",
       "        vertical-align: middle;\n",
       "    }\n",
       "\n",
       "    .dataframe tbody tr th {\n",
       "        vertical-align: top;\n",
       "    }\n",
       "\n",
       "    .dataframe thead th {\n",
       "        text-align: right;\n",
       "    }\n",
       "</style>\n",
       "<table border=\"1\" class=\"dataframe\">\n",
       "  <thead>\n",
       "    <tr style=\"text-align: right;\">\n",
       "      <th></th>\n",
       "      <th>item_nbr</th>\n",
       "      <th>count</th>\n",
       "    </tr>\n",
       "  </thead>\n",
       "  <tbody>\n",
       "    <tr>\n",
       "      <th>0</th>\n",
       "      <td>1000866</td>\n",
       "      <td>6</td>\n",
       "    </tr>\n",
       "    <tr>\n",
       "      <th>1</th>\n",
       "      <td>1001305</td>\n",
       "      <td>284</td>\n",
       "    </tr>\n",
       "    <tr>\n",
       "      <th>2</th>\n",
       "      <td>1003679</td>\n",
       "      <td>268</td>\n",
       "    </tr>\n",
       "    <tr>\n",
       "      <th>3</th>\n",
       "      <td>1004545</td>\n",
       "      <td>48</td>\n",
       "    </tr>\n",
       "    <tr>\n",
       "      <th>4</th>\n",
       "      <td>1004550</td>\n",
       "      <td>297</td>\n",
       "    </tr>\n",
       "  </tbody>\n",
       "</table>\n",
       "</div>"
      ],
      "text/plain": [
       "  item_nbr  count\n",
       "0  1000866      6\n",
       "1  1001305    284\n",
       "2  1003679    268\n",
       "3  1004545     48\n",
       "4  1004550    297"
      ]
     },
     "execution_count": 62,
     "metadata": {},
     "output_type": "execute_result"
    }
   ],
   "source": [
    "# 設定欄位名稱\n",
    "train_41_2013_itemNBR.columns = ['item_nbr','count']\n",
    "train_41_2013_itemNBR.head()"
   ]
  },
  {
   "cell_type": "code",
   "execution_count": 63,
   "metadata": {
    "colab": {
     "base_uri": "https://localhost:8080/",
     "height": 202
    },
    "colab_type": "code",
    "executionInfo": {
     "elapsed": 725,
     "status": "ok",
     "timestamp": 1557034670113,
     "user": {
      "displayName": "Po-Ying Fu",
      "photoUrl": "https://lh5.googleusercontent.com/-Ky_-P6jfDNs/AAAAAAAAAAI/AAAAAAAA0qY/HLawVg89qNo/s64/photo.jpg",
      "userId": "09435303200733751587"
     },
     "user_tz": -480
    },
    "id": "68l3b2WXY99v",
    "outputId": "24dab45c-ad85-4124-b087-9ce8cd5e720a"
   },
   "outputs": [
    {
     "data": {
      "text/html": [
       "<div>\n",
       "<style scoped>\n",
       "    .dataframe tbody tr th:only-of-type {\n",
       "        vertical-align: middle;\n",
       "    }\n",
       "\n",
       "    .dataframe tbody tr th {\n",
       "        vertical-align: top;\n",
       "    }\n",
       "\n",
       "    .dataframe thead th {\n",
       "        text-align: right;\n",
       "    }\n",
       "</style>\n",
       "<table border=\"1\" class=\"dataframe\">\n",
       "  <thead>\n",
       "    <tr style=\"text-align: right;\">\n",
       "      <th></th>\n",
       "      <th>item_nbr</th>\n",
       "      <th>count</th>\n",
       "    </tr>\n",
       "  </thead>\n",
       "  <tbody>\n",
       "    <tr>\n",
       "      <th>0</th>\n",
       "      <td>838215</td>\n",
       "      <td>362</td>\n",
       "    </tr>\n",
       "    <tr>\n",
       "      <th>1</th>\n",
       "      <td>781794</td>\n",
       "      <td>362</td>\n",
       "    </tr>\n",
       "    <tr>\n",
       "      <th>2</th>\n",
       "      <td>364606</td>\n",
       "      <td>362</td>\n",
       "    </tr>\n",
       "    <tr>\n",
       "      <th>3</th>\n",
       "      <td>372369</td>\n",
       "      <td>362</td>\n",
       "    </tr>\n",
       "    <tr>\n",
       "      <th>4</th>\n",
       "      <td>564533</td>\n",
       "      <td>362</td>\n",
       "    </tr>\n",
       "  </tbody>\n",
       "</table>\n",
       "</div>"
      ],
      "text/plain": [
       "  item_nbr  count\n",
       "0   838215    362\n",
       "1   781794    362\n",
       "2   364606    362\n",
       "3   372369    362\n",
       "4   564533    362"
      ]
     },
     "execution_count": 63,
     "metadata": {},
     "output_type": "execute_result"
    }
   ],
   "source": [
    "# 排序： ascending 小到大, descending 大到小\n",
    "train_41_2013_itemNBR = train_41_2013_itemNBR.sort_values(['count'], ascending=False).reset_index(drop=True) # , ascending=False\n",
    "train_41_2013_itemNBR.head()"
   ]
  },
  {
   "cell_type": "markdown",
   "metadata": {
    "colab_type": "text",
    "id": "xH2n_CIeBI8j"
   },
   "source": [
    "### 視覺化 - 類別佔比: 使用 pie chart\n",
    "\n",
    "[Pandas - df.plot.pie() 官方文件](https://pandas.pydata.org/pandas-docs/stable/reference/api/pandas.DataFrame.plot.pie.html)"
   ]
  },
  {
   "cell_type": "code",
   "execution_count": 64,
   "metadata": {
    "colab": {
     "base_uri": "https://localhost:8080/",
     "height": 340
    },
    "colab_type": "code",
    "executionInfo": {
     "elapsed": 1000,
     "status": "ok",
     "timestamp": 1557034707675,
     "user": {
      "displayName": "Po-Ying Fu",
      "photoUrl": "https://lh5.googleusercontent.com/-Ky_-P6jfDNs/AAAAAAAAAAI/AAAAAAAA0qY/HLawVg89qNo/s64/photo.jpg",
      "userId": "09435303200733751587"
     },
     "user_tz": -480
    },
    "id": "xao7VMtLETtG",
    "outputId": "4849a081-b185-4462-f584-bf90c4c82786"
   },
   "outputs": [
    {
     "data": {
      "text/plain": [
       "<matplotlib.axes._subplots.AxesSubplot at 0x13e842b0>"
      ]
     },
     "execution_count": 64,
     "metadata": {},
     "output_type": "execute_result"
    },
    {
     "data": {
      "image/png": "[encoded data removed]",
      "text/plain": [
       "<Figure size 360x360 with 1 Axes>"
      ]
     },
     "metadata": {},
     "output_type": "display_data"
    }
   ],
   "source": [
    "# 只看 top5 item (範例:把 top5 當作 100%)\n",
    "label = list(train_41_2013_itemNBR.head()['item_nbr'])\n",
    "train_41_2013_itemNBR.head()['count'].plot.pie(labels = label,\n",
    "                                              startangle=180,\n",
    "                                              title = 'Top 5 item_nbr',\n",
    "                                               autopct='%1.1f%%',\n",
    "                                               figsize=(5, 5))"
   ]
  },
  {
   "cell_type": "markdown",
   "metadata": {
    "colab_type": "text",
    "id": "KBzDnT_-ZyQC"
   },
   "source": [
    "**column - store_nbr**"
   ]
  },
  {
   "cell_type": "code",
   "execution_count": 65,
   "metadata": {
    "colab": {
     "base_uri": "https://localhost:8080/",
     "height": 141
    },
    "colab_type": "code",
    "executionInfo": {
     "elapsed": 749,
     "status": "ok",
     "timestamp": 1557029058866,
     "user": {
      "displayName": "Po-Ying Fu",
      "photoUrl": "https://lh5.googleusercontent.com/-Ky_-P6jfDNs/AAAAAAAAAAI/AAAAAAAA0qY/HLawVg89qNo/s64/photo.jpg",
      "userId": "09435303200733751587"
     },
     "user_tz": -480
    },
    "id": "J7GpheoKJR2d",
    "outputId": "94574e59-4c01-4f35-a725-36f565ffe1e9"
   },
   "outputs": [
    {
     "data": {
      "text/html": [
       "<div>\n",
       "<style scoped>\n",
       "    .dataframe tbody tr th:only-of-type {\n",
       "        vertical-align: middle;\n",
       "    }\n",
       "\n",
       "    .dataframe tbody tr th {\n",
       "        vertical-align: top;\n",
       "    }\n",
       "\n",
       "    .dataframe thead th {\n",
       "        text-align: right;\n",
       "    }\n",
       "</style>\n",
       "<table border=\"1\" class=\"dataframe\">\n",
       "  <thead>\n",
       "    <tr style=\"text-align: right;\">\n",
       "      <th></th>\n",
       "      <th>id</th>\n",
       "      <th>date</th>\n",
       "      <th>store_nbr</th>\n",
       "      <th>item_nbr</th>\n",
       "      <th>unit_sales</th>\n",
       "      <th>onpromotion</th>\n",
       "    </tr>\n",
       "  </thead>\n",
       "  <tbody>\n",
       "    <tr>\n",
       "      <th>0</th>\n",
       "      <td>30787</td>\n",
       "      <td>2013-01-02</td>\n",
       "      <td>41</td>\n",
       "      <td>105574</td>\n",
       "      <td>2.0</td>\n",
       "      <td>False</td>\n",
       "    </tr>\n",
       "    <tr>\n",
       "      <th>1</th>\n",
       "      <td>30788</td>\n",
       "      <td>2013-01-02</td>\n",
       "      <td>41</td>\n",
       "      <td>105575</td>\n",
       "      <td>9.0</td>\n",
       "      <td>False</td>\n",
       "    </tr>\n",
       "    <tr>\n",
       "      <th>2</th>\n",
       "      <td>30789</td>\n",
       "      <td>2013-01-02</td>\n",
       "      <td>41</td>\n",
       "      <td>105577</td>\n",
       "      <td>18.0</td>\n",
       "      <td>False</td>\n",
       "    </tr>\n",
       "  </tbody>\n",
       "</table>\n",
       "</div>"
      ],
      "text/plain": [
       "      id       date store_nbr item_nbr  unit_sales  onpromotion\n",
       "0  30787 2013-01-02        41   105574         2.0        False\n",
       "1  30788 2013-01-02        41   105575         9.0        False\n",
       "2  30789 2013-01-02        41   105577        18.0        False"
      ]
     },
     "execution_count": 65,
     "metadata": {},
     "output_type": "execute_result"
    }
   ],
   "source": [
    "train_41_2013.head(3)"
   ]
  },
  {
   "cell_type": "code",
   "execution_count": 66,
   "metadata": {
    "colab": {
     "base_uri": "https://localhost:8080/",
     "height": 69
    },
    "colab_type": "code",
    "executionInfo": {
     "elapsed": 985,
     "status": "ok",
     "timestamp": 1557029061312,
     "user": {
      "displayName": "Po-Ying Fu",
      "photoUrl": "https://lh5.googleusercontent.com/-Ky_-P6jfDNs/AAAAAAAAAAI/AAAAAAAA0qY/HLawVg89qNo/s64/photo.jpg",
      "userId": "09435303200733751587"
     },
     "user_tz": -480
    },
    "id": "o1-zXKL5napU",
    "outputId": "d93753d5-4895-4a09-cdbc-beb083b04997"
   },
   "outputs": [
    {
     "data": {
      "text/plain": [
       "store_nbr\n",
       "41    336828\n",
       "dtype: int64"
      ]
     },
     "execution_count": 66,
     "metadata": {},
     "output_type": "execute_result"
    }
   ],
   "source": [
    "# Store number:\n",
    "train_41_2013.groupby(['store_nbr']).size()"
   ]
  },
  {
   "cell_type": "markdown",
   "metadata": {
    "colab_type": "text",
    "id": "KrruHjGqKhsn"
   },
   "source": [
    "因為本練習只取 store 41 在 2013 年的資料"
   ]
  },
  {
   "cell_type": "markdown",
   "metadata": {
    "colab_type": "text",
    "id": "EOobvL51aVgl"
   },
   "source": [
    "**column - id**\n",
    "\n",
    "ID 是流水號, 理論上只會出現一次, 不會重複: 要檢查資料才能確定!"
   ]
  },
  {
   "cell_type": "code",
   "execution_count": 67,
   "metadata": {
    "colab": {
     "base_uri": "https://localhost:8080/",
     "height": 141
    },
    "colab_type": "code",
    "executionInfo": {
     "elapsed": 790,
     "status": "ok",
     "timestamp": 1557029131340,
     "user": {
      "displayName": "Po-Ying Fu",
      "photoUrl": "https://lh5.googleusercontent.com/-Ky_-P6jfDNs/AAAAAAAAAAI/AAAAAAAA0qY/HLawVg89qNo/s64/photo.jpg",
      "userId": "09435303200733751587"
     },
     "user_tz": -480
    },
    "id": "kxGlybl8JSlK",
    "outputId": "b78c0383-440c-4b45-ead2-319e3985110d"
   },
   "outputs": [
    {
     "data": {
      "text/html": [
       "<div>\n",
       "<style scoped>\n",
       "    .dataframe tbody tr th:only-of-type {\n",
       "        vertical-align: middle;\n",
       "    }\n",
       "\n",
       "    .dataframe tbody tr th {\n",
       "        vertical-align: top;\n",
       "    }\n",
       "\n",
       "    .dataframe thead th {\n",
       "        text-align: right;\n",
       "    }\n",
       "</style>\n",
       "<table border=\"1\" class=\"dataframe\">\n",
       "  <thead>\n",
       "    <tr style=\"text-align: right;\">\n",
       "      <th></th>\n",
       "      <th>id</th>\n",
       "      <th>date</th>\n",
       "      <th>store_nbr</th>\n",
       "      <th>item_nbr</th>\n",
       "      <th>unit_sales</th>\n",
       "      <th>onpromotion</th>\n",
       "    </tr>\n",
       "  </thead>\n",
       "  <tbody>\n",
       "    <tr>\n",
       "      <th>0</th>\n",
       "      <td>30787</td>\n",
       "      <td>2013-01-02</td>\n",
       "      <td>41</td>\n",
       "      <td>105574</td>\n",
       "      <td>2.0</td>\n",
       "      <td>False</td>\n",
       "    </tr>\n",
       "    <tr>\n",
       "      <th>1</th>\n",
       "      <td>30788</td>\n",
       "      <td>2013-01-02</td>\n",
       "      <td>41</td>\n",
       "      <td>105575</td>\n",
       "      <td>9.0</td>\n",
       "      <td>False</td>\n",
       "    </tr>\n",
       "    <tr>\n",
       "      <th>2</th>\n",
       "      <td>30789</td>\n",
       "      <td>2013-01-02</td>\n",
       "      <td>41</td>\n",
       "      <td>105577</td>\n",
       "      <td>18.0</td>\n",
       "      <td>False</td>\n",
       "    </tr>\n",
       "  </tbody>\n",
       "</table>\n",
       "</div>"
      ],
      "text/plain": [
       "      id       date store_nbr item_nbr  unit_sales  onpromotion\n",
       "0  30787 2013-01-02        41   105574         2.0        False\n",
       "1  30788 2013-01-02        41   105575         9.0        False\n",
       "2  30789 2013-01-02        41   105577        18.0        False"
      ]
     },
     "execution_count": 67,
     "metadata": {},
     "output_type": "execute_result"
    }
   ],
   "source": [
    "train_41_2013.head(3)"
   ]
  },
  {
   "cell_type": "code",
   "execution_count": 68,
   "metadata": {
    "colab": {
     "base_uri": "https://localhost:8080/",
     "height": 202
    },
    "colab_type": "code",
    "executionInfo": {
     "elapsed": 1143,
     "status": "ok",
     "timestamp": 1557029136807,
     "user": {
      "displayName": "Po-Ying Fu",
      "photoUrl": "https://lh5.googleusercontent.com/-Ky_-P6jfDNs/AAAAAAAAAAI/AAAAAAAA0qY/HLawVg89qNo/s64/photo.jpg",
      "userId": "09435303200733751587"
     },
     "user_tz": -480
    },
    "id": "z0U4zqyJnrk9",
    "outputId": "5d1ee699-f622-4205-ea21-bfe463c5ddfc"
   },
   "outputs": [
    {
     "data": {
      "text/html": [
       "<div>\n",
       "<style scoped>\n",
       "    .dataframe tbody tr th:only-of-type {\n",
       "        vertical-align: middle;\n",
       "    }\n",
       "\n",
       "    .dataframe tbody tr th {\n",
       "        vertical-align: top;\n",
       "    }\n",
       "\n",
       "    .dataframe thead th {\n",
       "        text-align: right;\n",
       "    }\n",
       "</style>\n",
       "<table border=\"1\" class=\"dataframe\">\n",
       "  <thead>\n",
       "    <tr style=\"text-align: right;\">\n",
       "      <th></th>\n",
       "      <th>id</th>\n",
       "      <th>0</th>\n",
       "    </tr>\n",
       "  </thead>\n",
       "  <tbody>\n",
       "    <tr>\n",
       "      <th>0</th>\n",
       "      <td>10031833</td>\n",
       "      <td>1</td>\n",
       "    </tr>\n",
       "    <tr>\n",
       "      <th>1</th>\n",
       "      <td>10031834</td>\n",
       "      <td>1</td>\n",
       "    </tr>\n",
       "    <tr>\n",
       "      <th>2</th>\n",
       "      <td>10031835</td>\n",
       "      <td>1</td>\n",
       "    </tr>\n",
       "    <tr>\n",
       "      <th>3</th>\n",
       "      <td>10031836</td>\n",
       "      <td>1</td>\n",
       "    </tr>\n",
       "    <tr>\n",
       "      <th>4</th>\n",
       "      <td>10031837</td>\n",
       "      <td>1</td>\n",
       "    </tr>\n",
       "  </tbody>\n",
       "</table>\n",
       "</div>"
      ],
      "text/plain": [
       "         id  0\n",
       "0  10031833  1\n",
       "1  10031834  1\n",
       "2  10031835  1\n",
       "3  10031836  1\n",
       "4  10031837  1"
      ]
     },
     "execution_count": 68,
     "metadata": {},
     "output_type": "execute_result"
    }
   ],
   "source": [
    "# ID: Total raw = 336828\n",
    "train_41_2013_id = train_41_2013.groupby(['id']).size().reset_index()\n",
    "train_41_2013_id.head()"
   ]
  },
  {
   "cell_type": "code",
   "execution_count": 69,
   "metadata": {
    "colab": {
     "base_uri": "https://localhost:8080/",
     "height": 294
    },
    "colab_type": "code",
    "executionInfo": {
     "elapsed": 792,
     "status": "ok",
     "timestamp": 1557029139710,
     "user": {
      "displayName": "Po-Ying Fu",
      "photoUrl": "https://lh5.googleusercontent.com/-Ky_-P6jfDNs/AAAAAAAAAAI/AAAAAAAA0qY/HLawVg89qNo/s64/photo.jpg",
      "userId": "09435303200733751587"
     },
     "user_tz": -480
    },
    "id": "NtNC57nuasek",
    "outputId": "ab4ba0e7-960d-47de-81bd-8a796d5ab869"
   },
   "outputs": [
    {
     "data": {
      "text/html": [
       "<div>\n",
       "<style scoped>\n",
       "    .dataframe tbody tr th:only-of-type {\n",
       "        vertical-align: middle;\n",
       "    }\n",
       "\n",
       "    .dataframe tbody tr th {\n",
       "        vertical-align: top;\n",
       "    }\n",
       "\n",
       "    .dataframe thead th {\n",
       "        text-align: right;\n",
       "    }\n",
       "</style>\n",
       "<table border=\"1\" class=\"dataframe\">\n",
       "  <thead>\n",
       "    <tr style=\"text-align: right;\">\n",
       "      <th></th>\n",
       "      <th>0</th>\n",
       "    </tr>\n",
       "  </thead>\n",
       "  <tbody>\n",
       "    <tr>\n",
       "      <th>count</th>\n",
       "      <td>336828.0</td>\n",
       "    </tr>\n",
       "    <tr>\n",
       "      <th>mean</th>\n",
       "      <td>1.0</td>\n",
       "    </tr>\n",
       "    <tr>\n",
       "      <th>std</th>\n",
       "      <td>0.0</td>\n",
       "    </tr>\n",
       "    <tr>\n",
       "      <th>min</th>\n",
       "      <td>1.0</td>\n",
       "    </tr>\n",
       "    <tr>\n",
       "      <th>25%</th>\n",
       "      <td>1.0</td>\n",
       "    </tr>\n",
       "    <tr>\n",
       "      <th>50%</th>\n",
       "      <td>1.0</td>\n",
       "    </tr>\n",
       "    <tr>\n",
       "      <th>75%</th>\n",
       "      <td>1.0</td>\n",
       "    </tr>\n",
       "    <tr>\n",
       "      <th>max</th>\n",
       "      <td>1.0</td>\n",
       "    </tr>\n",
       "  </tbody>\n",
       "</table>\n",
       "</div>"
      ],
      "text/plain": [
       "              0\n",
       "count  336828.0\n",
       "mean        1.0\n",
       "std         0.0\n",
       "min         1.0\n",
       "25%         1.0\n",
       "50%         1.0\n",
       "75%         1.0\n",
       "max         1.0"
      ]
     },
     "execution_count": 69,
     "metadata": {},
     "output_type": "execute_result"
    }
   ],
   "source": [
    "train_41_2013_id.describe()"
   ]
  },
  {
   "cell_type": "markdown",
   "metadata": {
    "colab_type": "text",
    "id": "iXDZTvMzLiIh"
   },
   "source": [
    "# 結合兩份資料\n",
    "\n",
    "## 使用 merge()\n",
    "\n",
    "[Pandas - df.merge() 文件](https://pandas.pydata.org/pandas-docs/stable/reference/api/pandas.DataFrame.merge.html)"
   ]
  },
  {
   "cell_type": "code",
   "execution_count": 73,
   "metadata": {
    "colab": {
     "base_uri": "https://localhost:8080/",
     "height": 34
    },
    "colab_type": "code",
    "executionInfo": {
     "elapsed": 3040,
     "status": "ok",
     "timestamp": 1557153680122,
     "user": {
      "displayName": "hsu megan",
      "photoUrl": "",
      "userId": "05072458646650422245"
     },
     "user_tz": -480
    },
    "id": "0aHKKK7sMCUi",
    "outputId": "46b5a98a-e436-460e-a6cb-80842f1b03be",
    "scrolled": true
   },
   "outputs": [
    {
     "name": "stdout",
     "output_type": "stream",
     "text": [
      " 磁碟區 C 中的磁碟是 Windows\n",
      " 磁碟區序號:  663F-9554\n",
      "\n",
      " C:\\Users\\USER\\Google 雲端硬碟\\01Python 基礎與實作練習 的目錄\n",
      "\n",
      "2019/05/06  下午 10:46    <DIR>          .\n",
      "2019/05/06  下午 10:46    <DIR>          ..\n",
      "2019/05/06  下午 10:35    <DIR>          .ipynb_checkpoints\n",
      "2019/05/06  下午 10:45           175,955 01_Python基礎與實作練習.ipynb\n",
      "2019/05/06  下午 10:34               178 2_Python 基礎與實作練習_5_9.gslides\n",
      "2019/05/06  下午 10:10        11,762,579 df_train_41_2013.csv\n",
      "2019/05/01  上午 09:12            31,516 index_list.png\n",
      "2019/05/01  下午 07:21            23,763 ListSlicing.jpg\n",
      "2019/05/06  下午 10:41            20,580 oil.csv\n",
      "               6 個檔案      12,014,571 位元組\n",
      "               3 個目錄  323,347,554,304 位元組可用\n"
     ]
    }
   ],
   "source": [
    "!dir"
   ]
  },
  {
   "cell_type": "code",
   "execution_count": 74,
   "metadata": {
    "colab": {
     "base_uri": "https://localhost:8080/",
     "height": 141
    },
    "colab_type": "code",
    "executionInfo": {
     "elapsed": 1064,
     "status": "ok",
     "timestamp": 1557029417465,
     "user": {
      "displayName": "Po-Ying Fu",
      "photoUrl": "https://lh5.googleusercontent.com/-Ky_-P6jfDNs/AAAAAAAAAAI/AAAAAAAA0qY/HLawVg89qNo/s64/photo.jpg",
      "userId": "09435303200733751587"
     },
     "user_tz": -480
    },
    "id": "2FpTYp0SLrZp",
    "outputId": "fe653b37-d711-4318-e943-afd74cc27ac9"
   },
   "outputs": [
    {
     "data": {
      "text/html": [
       "<div>\n",
       "<style scoped>\n",
       "    .dataframe tbody tr th:only-of-type {\n",
       "        vertical-align: middle;\n",
       "    }\n",
       "\n",
       "    .dataframe tbody tr th {\n",
       "        vertical-align: top;\n",
       "    }\n",
       "\n",
       "    .dataframe thead th {\n",
       "        text-align: right;\n",
       "    }\n",
       "</style>\n",
       "<table border=\"1\" class=\"dataframe\">\n",
       "  <thead>\n",
       "    <tr style=\"text-align: right;\">\n",
       "      <th></th>\n",
       "      <th>id</th>\n",
       "      <th>date</th>\n",
       "      <th>store_nbr</th>\n",
       "      <th>item_nbr</th>\n",
       "      <th>unit_sales</th>\n",
       "      <th>onpromotion</th>\n",
       "    </tr>\n",
       "  </thead>\n",
       "  <tbody>\n",
       "    <tr>\n",
       "      <th>0</th>\n",
       "      <td>30787</td>\n",
       "      <td>2013-01-02</td>\n",
       "      <td>41</td>\n",
       "      <td>105574</td>\n",
       "      <td>2.0</td>\n",
       "      <td>False</td>\n",
       "    </tr>\n",
       "    <tr>\n",
       "      <th>1</th>\n",
       "      <td>30788</td>\n",
       "      <td>2013-01-02</td>\n",
       "      <td>41</td>\n",
       "      <td>105575</td>\n",
       "      <td>9.0</td>\n",
       "      <td>False</td>\n",
       "    </tr>\n",
       "    <tr>\n",
       "      <th>2</th>\n",
       "      <td>30789</td>\n",
       "      <td>2013-01-02</td>\n",
       "      <td>41</td>\n",
       "      <td>105577</td>\n",
       "      <td>18.0</td>\n",
       "      <td>False</td>\n",
       "    </tr>\n",
       "  </tbody>\n",
       "</table>\n",
       "</div>"
      ],
      "text/plain": [
       "      id       date store_nbr item_nbr  unit_sales  onpromotion\n",
       "0  30787 2013-01-02        41   105574         2.0        False\n",
       "1  30788 2013-01-02        41   105575         9.0        False\n",
       "2  30789 2013-01-02        41   105577        18.0        False"
      ]
     },
     "execution_count": 74,
     "metadata": {},
     "output_type": "execute_result"
    }
   ],
   "source": [
    "# Data 1: df_train_41_2013.csv\n",
    "train_41_2013.head(3)"
   ]
  },
  {
   "cell_type": "code",
   "execution_count": 75,
   "metadata": {
    "colab": {
     "base_uri": "https://localhost:8080/",
     "height": 69
    },
    "colab_type": "code",
    "executionInfo": {
     "elapsed": 735,
     "status": "ok",
     "timestamp": 1557029859448,
     "user": {
      "displayName": "Po-Ying Fu",
      "photoUrl": "https://lh5.googleusercontent.com/-Ky_-P6jfDNs/AAAAAAAAAAI/AAAAAAAA0qY/HLawVg89qNo/s64/photo.jpg",
      "userId": "09435303200733751587"
     },
     "user_tz": -480
    },
    "id": "Y1-WlJZMMbWn",
    "outputId": "d87283ee-611f-4323-b31a-9124867d7332"
   },
   "outputs": [
    {
     "data": {
      "text/plain": [
       "date           object\n",
       "dcoilwtico    float64\n",
       "dtype: object"
      ]
     },
     "execution_count": 75,
     "metadata": {},
     "output_type": "execute_result"
    }
   ],
   "source": [
    "# Data 2: oil.csv\n",
    "# 讀取檔案:\n",
    "oil_df = pd.read_csv('oil.csv')\n",
    "oil_df.dtypes"
   ]
  },
  {
   "cell_type": "code",
   "execution_count": 76,
   "metadata": {
    "colab": {
     "base_uri": "https://localhost:8080/",
     "height": 202
    },
    "colab_type": "code",
    "executionInfo": {
     "elapsed": 783,
     "status": "ok",
     "timestamp": 1557029865977,
     "user": {
      "displayName": "Po-Ying Fu",
      "photoUrl": "https://lh5.googleusercontent.com/-Ky_-P6jfDNs/AAAAAAAAAAI/AAAAAAAA0qY/HLawVg89qNo/s64/photo.jpg",
      "userId": "09435303200733751587"
     },
     "user_tz": -480
    },
    "id": "xtMEmsPIL3y9",
    "outputId": "cf59307b-d93f-4182-8aca-acc8fbbaf1cf"
   },
   "outputs": [
    {
     "data": {
      "text/html": [
       "<div>\n",
       "<style scoped>\n",
       "    .dataframe tbody tr th:only-of-type {\n",
       "        vertical-align: middle;\n",
       "    }\n",
       "\n",
       "    .dataframe tbody tr th {\n",
       "        vertical-align: top;\n",
       "    }\n",
       "\n",
       "    .dataframe thead th {\n",
       "        text-align: right;\n",
       "    }\n",
       "</style>\n",
       "<table border=\"1\" class=\"dataframe\">\n",
       "  <thead>\n",
       "    <tr style=\"text-align: right;\">\n",
       "      <th></th>\n",
       "      <th>date</th>\n",
       "      <th>dcoilwtico</th>\n",
       "    </tr>\n",
       "  </thead>\n",
       "  <tbody>\n",
       "    <tr>\n",
       "      <th>0</th>\n",
       "      <td>2013-01-01</td>\n",
       "      <td>NaN</td>\n",
       "    </tr>\n",
       "    <tr>\n",
       "      <th>1</th>\n",
       "      <td>2013-01-02</td>\n",
       "      <td>93.14</td>\n",
       "    </tr>\n",
       "    <tr>\n",
       "      <th>2</th>\n",
       "      <td>2013-01-03</td>\n",
       "      <td>92.97</td>\n",
       "    </tr>\n",
       "    <tr>\n",
       "      <th>3</th>\n",
       "      <td>2013-01-04</td>\n",
       "      <td>93.12</td>\n",
       "    </tr>\n",
       "    <tr>\n",
       "      <th>4</th>\n",
       "      <td>2013-01-07</td>\n",
       "      <td>93.20</td>\n",
       "    </tr>\n",
       "  </tbody>\n",
       "</table>\n",
       "</div>"
      ],
      "text/plain": [
       "        date  dcoilwtico\n",
       "0 2013-01-01         NaN\n",
       "1 2013-01-02       93.14\n",
       "2 2013-01-03       92.97\n",
       "3 2013-01-04       93.12\n",
       "4 2013-01-07       93.20"
      ]
     },
     "execution_count": 76,
     "metadata": {},
     "output_type": "execute_result"
    }
   ],
   "source": [
    "# 修改資料類型:\n",
    "oil_df[\"date\"] = pd.to_datetime(oil_df['date'])\n",
    "oil_df.head()"
   ]
  },
  {
   "cell_type": "code",
   "execution_count": 77,
   "metadata": {
    "colab": {
     "base_uri": "https://localhost:8080/",
     "height": 69
    },
    "colab_type": "code",
    "executionInfo": {
     "elapsed": 773,
     "status": "ok",
     "timestamp": 1557029688286,
     "user": {
      "displayName": "Po-Ying Fu",
      "photoUrl": "https://lh5.googleusercontent.com/-Ky_-P6jfDNs/AAAAAAAAAAI/AAAAAAAA0qY/HLawVg89qNo/s64/photo.jpg",
      "userId": "09435303200733751587"
     },
     "user_tz": -480
    },
    "id": "YzGxShWgL31f",
    "outputId": "eabb4498-2238-4327-9cde-a5e01f66d795"
   },
   "outputs": [
    {
     "data": {
      "text/plain": [
       "date          datetime64[ns]\n",
       "dcoilwtico           float64\n",
       "dtype: object"
      ]
     },
     "execution_count": 77,
     "metadata": {},
     "output_type": "execute_result"
    }
   ],
   "source": [
    "# 再確認 data type\n",
    "oil_df.dtypes"
   ]
  },
  {
   "cell_type": "code",
   "execution_count": 78,
   "metadata": {
    "colab": {
     "base_uri": "https://localhost:8080/",
     "height": 202
    },
    "colab_type": "code",
    "executionInfo": {
     "elapsed": 809,
     "status": "ok",
     "timestamp": 1557029825479,
     "user": {
      "displayName": "Po-Ying Fu",
      "photoUrl": "https://lh5.googleusercontent.com/-Ky_-P6jfDNs/AAAAAAAAAAI/AAAAAAAA0qY/HLawVg89qNo/s64/photo.jpg",
      "userId": "09435303200733751587"
     },
     "user_tz": -480
    },
    "id": "CVe-DYW2M8U5",
    "outputId": "21633990-147b-4c2d-ffc8-2c52f0d3eb28"
   },
   "outputs": [
    {
     "data": {
      "text/html": [
       "<div>\n",
       "<style scoped>\n",
       "    .dataframe tbody tr th:only-of-type {\n",
       "        vertical-align: middle;\n",
       "    }\n",
       "\n",
       "    .dataframe tbody tr th {\n",
       "        vertical-align: top;\n",
       "    }\n",
       "\n",
       "    .dataframe thead th {\n",
       "        text-align: right;\n",
       "    }\n",
       "</style>\n",
       "<table border=\"1\" class=\"dataframe\">\n",
       "  <thead>\n",
       "    <tr style=\"text-align: right;\">\n",
       "      <th></th>\n",
       "      <th>id</th>\n",
       "      <th>date</th>\n",
       "      <th>store_nbr</th>\n",
       "      <th>item_nbr</th>\n",
       "      <th>unit_sales</th>\n",
       "      <th>onpromotion</th>\n",
       "      <th>dcoilwtico</th>\n",
       "    </tr>\n",
       "  </thead>\n",
       "  <tbody>\n",
       "    <tr>\n",
       "      <th>0</th>\n",
       "      <td>30787</td>\n",
       "      <td>2013-01-02</td>\n",
       "      <td>41</td>\n",
       "      <td>105574</td>\n",
       "      <td>2.0</td>\n",
       "      <td>False</td>\n",
       "      <td>93.14</td>\n",
       "    </tr>\n",
       "    <tr>\n",
       "      <th>1</th>\n",
       "      <td>30788</td>\n",
       "      <td>2013-01-02</td>\n",
       "      <td>41</td>\n",
       "      <td>105575</td>\n",
       "      <td>9.0</td>\n",
       "      <td>False</td>\n",
       "      <td>93.14</td>\n",
       "    </tr>\n",
       "    <tr>\n",
       "      <th>2</th>\n",
       "      <td>30789</td>\n",
       "      <td>2013-01-02</td>\n",
       "      <td>41</td>\n",
       "      <td>105577</td>\n",
       "      <td>18.0</td>\n",
       "      <td>False</td>\n",
       "      <td>93.14</td>\n",
       "    </tr>\n",
       "    <tr>\n",
       "      <th>3</th>\n",
       "      <td>30790</td>\n",
       "      <td>2013-01-02</td>\n",
       "      <td>41</td>\n",
       "      <td>105693</td>\n",
       "      <td>4.0</td>\n",
       "      <td>False</td>\n",
       "      <td>93.14</td>\n",
       "    </tr>\n",
       "    <tr>\n",
       "      <th>4</th>\n",
       "      <td>30791</td>\n",
       "      <td>2013-01-02</td>\n",
       "      <td>41</td>\n",
       "      <td>105737</td>\n",
       "      <td>1.0</td>\n",
       "      <td>False</td>\n",
       "      <td>93.14</td>\n",
       "    </tr>\n",
       "  </tbody>\n",
       "</table>\n",
       "</div>"
      ],
      "text/plain": [
       "      id       date store_nbr item_nbr  unit_sales  onpromotion  dcoilwtico\n",
       "0  30787 2013-01-02        41   105574         2.0        False       93.14\n",
       "1  30788 2013-01-02        41   105575         9.0        False       93.14\n",
       "2  30789 2013-01-02        41   105577        18.0        False       93.14\n",
       "3  30790 2013-01-02        41   105693         4.0        False       93.14\n",
       "4  30791 2013-01-02        41   105737         1.0        False       93.14"
      ]
     },
     "execution_count": 78,
     "metadata": {},
     "output_type": "execute_result"
    }
   ],
   "source": [
    "merge_train_oil = train_41_2013.merge(oil_df, how='left', on=['date'])\n",
    "merge_train_oil.head()"
   ]
  },
  {
   "cell_type": "markdown",
   "metadata": {
    "colab_type": "text",
    "id": "wsrgWF4ha51x"
   },
   "source": [
    "---\n",
    "# 資料匯出"
   ]
  },
  {
   "cell_type": "code",
   "execution_count": 83,
   "metadata": {
    "colab": {},
    "colab_type": "code",
    "id": "rhdBz6DkJWQK"
   },
   "outputs": [],
   "source": [
    "##資料匯出為CSV\n",
    "merge_train_oil.to_csv(r'etl_train_oil.csv')"
   ]
  }
 ],
 "metadata": {
  "colab": {
   "collapsed_sections": [],
   "name": "01_Python基礎與實作練習.ipynb",
   "provenance": [],
   "toc_visible": true,
   "version": "0.3.2"
  },
  "kernelspec": {
   "display_name": "Python 3",
   "language": "python",
   "name": "python3"
  },
  "language_info": {
   "codemirror_mode": {
    "name": "ipython",
    "version": 3
   },
   "file_extension": ".py",
   "mimetype": "text/x-python",
   "name": "python",
   "nbconvert_exporter": "python",
   "pygments_lexer": "ipython3",
   "version": "3.7.3"
  }
 },
 "nbformat": 4,
 "nbformat_minor": 1
}
